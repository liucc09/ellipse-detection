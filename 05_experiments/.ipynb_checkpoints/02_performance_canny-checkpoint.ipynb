{
 "cells": [
  {
   "cell_type": "markdown",
   "metadata": {
    "toc": true
   },
   "source": [
    "<h1>目录<span class=\"tocSkip\"></span></h1>\n",
    "<div class=\"toc\"><ul class=\"toc-item\"><li><span><a href=\"#加载数据和模型\" data-toc-modified-id=\"加载数据和模型-1\"><span class=\"toc-item-num\">1&nbsp;&nbsp;</span>加载数据和模型</a></span></li><li><span><a href=\"#精度，召回率，F和时间随参数的变化\" data-toc-modified-id=\"精度，召回率，F和时间随参数的变化-2\"><span class=\"toc-item-num\">2&nbsp;&nbsp;</span>精度，召回率，F和时间随参数的变化</a></span></li></ul></div>"
   ]
  },
  {
   "cell_type": "code",
   "execution_count": 1,
   "metadata": {},
   "outputs": [],
   "source": [
    "%matplotlib inline\n",
    "dataset = '01_industry'\n",
    "raw_path = f'/home/liucc/Workspace/02_Ellipse/03_results/{dataset}/01_raw/'\n",
    "label_path = f'/home/liucc/Workspace/02_Ellipse/03_results/{dataset}/04_ellipse_label/'\n",
    "result_path = f'/home/liucc/Workspace/02_Ellipse/03_results/{dataset}/05_ellipse_result/canny/'"
   ]
  },
  {
   "cell_type": "code",
   "execution_count": 2,
   "metadata": {},
   "outputs": [
    {
     "name": "stdout",
     "output_type": "stream",
     "text": [
      "['001', '002', '003', '004', '005', '006', '007', '008', '009', '010']\n"
     ]
    }
   ],
   "source": [
    "import os \n",
    "fnames = os.listdir(raw_path)\n",
    "fnames = [n[:-4] for n in fnames if n[-3:]=='jpg']\n",
    "fnames.sort()\n",
    "print(fnames[:10])"
   ]
  },
  {
   "cell_type": "markdown",
   "metadata": {},
   "source": [
    "# 加载数据和模型"
   ]
  },
  {
   "cell_type": "code",
   "execution_count": 3,
   "metadata": {},
   "outputs": [
    {
     "name": "stderr",
     "output_type": "stream",
     "text": [
      "/home/liucc/anaconda3/lib/python3.6/site-packages/skimage/util/dtype.py:122: UserWarning: Possible precision loss when converting from float64 to uint8\n",
      "  .format(dtypeobj_in, dtypeobj_out))\n"
     ]
    },
    {
     "name": "stdout",
     "output_type": "stream",
     "text": [
      "66\n"
     ]
    }
   ],
   "source": [
    "import sys\n",
    "sys.path.append('/home/liucc/Workspace/02_Ellipse/01_data')\n",
    "from cc_process_image import *\n",
    "import imageio\n",
    "\n",
    "raws = get_all_images(f'{raw_path}',fnames,'jpg')\n",
    "\n",
    "print(len(raws))"
   ]
  },
  {
   "cell_type": "code",
   "execution_count": 4,
   "metadata": {},
   "outputs": [
    {
     "name": "stdout",
     "output_type": "stream",
     "text": [
      "66\n"
     ]
    }
   ],
   "source": [
    "gts = []\n",
    "\n",
    "for name in fnames:\n",
    "    lname = label_path+name+'.txt'\n",
    "    \n",
    "    with open(lname,'r') as f:\n",
    "        txt = f.read()\n",
    "        \n",
    "        ells_t = [[float(v) for v in l.split(' ')] for l in txt.split('\\n')]\n",
    "        \n",
    "        gts.append(ells_t)\n",
    "        \n",
    "\n",
    "print(len(gts))"
   ]
  },
  {
   "cell_type": "markdown",
   "metadata": {},
   "source": [
    "# 精度，召回率，F和时间随参数的变化"
   ]
  },
  {
   "cell_type": "code",
   "execution_count": 5,
   "metadata": {},
   "outputs": [],
   "source": [
    "import sys\n",
    "sys.path.append('/home/liucc/Workspace/02_Ellipse/02_algorithm/02_ellipse_detect')\n",
    "from cc_ellipse_v2 import *\n",
    "from experiment import *"
   ]
  },
  {
   "cell_type": "code",
   "execution_count": 6,
   "metadata": {},
   "outputs": [],
   "source": [
    "import time\n",
    "from skimage.feature import canny\n",
    "#全局参数\n",
    "GLOB = {\n",
    "    'MAX_FIT_DIS':4,\n",
    "    'MAX_DIS':0,\n",
    "    'MAX_ANGLE':40,\n",
    "    'MIN_LEN' : 30,\n",
    "    'MIN_COVER_ANGLE' : 140,\n",
    "    'MIN_COVER_RHO1' : 0.5,\n",
    "    'MIN_COVER_RHO2' : 0.4,\n",
    "}\n",
    "\n",
    "def one_task(glob):\n",
    "    start = time.time()\n",
    "\n",
    "    prs = []\n",
    "    \n",
    "    pre_time = 0\n",
    "    detect_time = 0\n",
    "    \n",
    "    for name,im in zip(fnames,raws):\n",
    "        oname = result_path+name+'.txt'\n",
    "        \n",
    "        start = time.time()\n",
    "        im = preprocess_image(im)\n",
    "        imo = canny(im, sigma=2)\n",
    "        end = time.time()\n",
    "        \n",
    "        pre_time+= end-start\n",
    "        \n",
    "        start = time.time()\n",
    "        imo = postprocess_image(imo)\n",
    "        ells = detect_ellipses_im(imo,glob)\n",
    "        end = time.time()\n",
    "        \n",
    "        detect_time+= end-start\n",
    "        \n",
    "        prs.append(ells)\n",
    "        \n",
    "        with open(oname,'w') as f:\n",
    "            estr = '\\n'.join([' '.join(['%.4f'%v for v in l]) for l in ells])\n",
    "            f.write(estr)\n",
    "    \n",
    "    \n",
    "    pre_time = pre_time/len(raws)\n",
    "    detect_time = detect_time/len(raws)\n",
    "    totat_time = pre_time+detect_time\n",
    "    \n",
    "    precision,recall,F1,_,_ = cal_metrics(prs,gts)\n",
    "    \n",
    "    return [precision,recall,F1,pre_time,detect_time,totat_time]"
   ]
  },
  {
   "cell_type": "code",
   "execution_count": 7,
   "metadata": {},
   "outputs": [
    {
     "name": "stdout",
     "output_type": "stream",
     "text": [
      "Precision:0.8187\n",
      "Recall:   0.5127\n",
      "F1 Score: 0.6305\n",
      "Process Time: 52\n",
      "Detect Time: 858\n",
      "Total Time: 910\n"
     ]
    }
   ],
   "source": [
    "precision,recall,F1,pre_time,detect_time,totat_time = one_task(GLOB)\n",
    "print('Precision:%.4f' % precision)\n",
    "print('Recall:   %.4f' % recall)\n",
    "print('F1 Score: %.4f' % F1)\n",
    "print('Process Time: %.0f' % (pre_time*1000))\n",
    "print('Detect Time: %.0f' % (detect_time*1000))\n",
    "print('Total Time: %.0f' % (totat_time*1000))"
   ]
  },
  {
   "cell_type": "code",
   "execution_count": null,
   "metadata": {},
   "outputs": [],
   "source": []
  }
 ],
 "metadata": {
  "kernelspec": {
   "display_name": "Python 3",
   "language": "python",
   "name": "python3"
  },
  "language_info": {
   "codemirror_mode": {
    "name": "ipython",
    "version": 3
   },
   "file_extension": ".py",
   "mimetype": "text/x-python",
   "name": "python",
   "nbconvert_exporter": "python",
   "pygments_lexer": "ipython3",
   "version": "3.6.5"
  },
  "toc": {
   "base_numbering": 1,
   "nav_menu": {},
   "number_sections": true,
   "sideBar": true,
   "skip_h1_title": false,
   "title_cell": "目录",
   "title_sidebar": "目录",
   "toc_cell": true,
   "toc_position": {
    "height": "calc(100% - 180px)",
    "left": "10px",
    "top": "150px",
    "width": "273px"
   },
   "toc_section_display": true,
   "toc_window_display": true
  }
 },
 "nbformat": 4,
 "nbformat_minor": 2
}
