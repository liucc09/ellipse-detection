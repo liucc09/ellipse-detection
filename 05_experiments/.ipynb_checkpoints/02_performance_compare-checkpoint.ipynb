{
 "cells": [
  {
   "cell_type": "markdown",
   "metadata": {
    "toc": true
   },
   "source": [
    "<h1>目录<span class=\"tocSkip\"></span></h1>\n",
    "<div class=\"toc\"><ul class=\"toc-item\"><li><span><a href=\"#加载数据\" data-toc-modified-id=\"加载数据-1\"><span class=\"toc-item-num\">1&nbsp;&nbsp;</span>加载数据</a></span></li><li><span><a href=\"#精度-召回率-F\" data-toc-modified-id=\"精度-召回率-F-2\"><span class=\"toc-item-num\">2&nbsp;&nbsp;</span>精度-召回率-F</a></span></li><li><span><a href=\"#加载模型\" data-toc-modified-id=\"加载模型-3\"><span class=\"toc-item-num\">3&nbsp;&nbsp;</span>加载模型</a></span></li><li><span><a href=\"#示例图\" data-toc-modified-id=\"示例图-4\"><span class=\"toc-item-num\">4&nbsp;&nbsp;</span>示例图</a></span></li><li><span><a href=\"#召回率随半径变化\" data-toc-modified-id=\"召回率随半径变化-5\"><span class=\"toc-item-num\">5&nbsp;&nbsp;</span>召回率随半径变化</a></span><ul class=\"toc-item\"><li><span><a href=\"#半长轴50以下的椭圆\" data-toc-modified-id=\"半长轴50以下的椭圆-5.1\"><span class=\"toc-item-num\">5.1&nbsp;&nbsp;</span>半长轴50以下的椭圆</a></span></li></ul></li></ul></div>"
   ]
  },
  {
   "cell_type": "code",
   "execution_count": 1,
   "metadata": {},
   "outputs": [],
   "source": [
    "base_path = r'/home/liucc/Workspace/02_Ellipse/03_results/01_industry/05_ellipse_result/'\n",
    "label_path = r'/home/liucc/Workspace/02_Ellipse/03_results/01_industry/04_ellipse_label/'\n",
    "raw_path = r'/home/liucc/Workspace/02_Ellipse/03_results/01_industry/01_raw/'"
   ]
  },
  {
   "cell_type": "code",
   "execution_count": 2,
   "metadata": {},
   "outputs": [
    {
     "name": "stdout",
     "output_type": "stream",
     "text": [
      "['2012_param', '2014_fast', '2017_fast', '2018_high', 'canny', 'proposed']\n"
     ]
    }
   ],
   "source": [
    "import os \n",
    "dirs = os.listdir(base_path)\n",
    "dirs = [d for d in dirs if d[0]!='.']\n",
    "dirs.sort()\n",
    "print(dirs)"
   ]
  },
  {
   "cell_type": "code",
   "execution_count": 3,
   "metadata": {},
   "outputs": [
    {
     "name": "stdout",
     "output_type": "stream",
     "text": [
      "['001', '002', '003', '004', '005', '006', '007', '008', '009', '010']\n"
     ]
    }
   ],
   "source": [
    "fnames = os.listdir(label_path)\n",
    "fnames = [n.split('.')[0] for n in fnames if n[-3:]=='txt']\n",
    "fnames.sort()\n",
    "print(fnames[:10])"
   ]
  },
  {
   "cell_type": "markdown",
   "metadata": {},
   "source": [
    "# 加载数据"
   ]
  },
  {
   "cell_type": "code",
   "execution_count": 4,
   "metadata": {},
   "outputs": [
    {
     "name": "stdout",
     "output_type": "stream",
     "text": [
      "66 66\n"
     ]
    }
   ],
   "source": [
    "import sys\n",
    "import imageio\n",
    "\n",
    "gts = []\n",
    "raws = []\n",
    "\n",
    "for name in fnames:\n",
    "    \n",
    "    lname = label_path + name + '.txt'\n",
    "    rname = raw_path + name + '.jpg'\n",
    "    \n",
    "    im_raw = imageio.imread(rname)\n",
    "    raws.append(im_raw)\n",
    "    \n",
    "    with open(lname,'r') as f:\n",
    "        txt = f.read()\n",
    "        \n",
    "        ells_t = [[float(v) for v in l.split(' ')] for l in txt.split('\\n')]\n",
    "        \n",
    "        gts.append(ells_t)\n",
    "\n",
    "print(len(raws),len(gts))"
   ]
  },
  {
   "cell_type": "markdown",
   "metadata": {},
   "source": [
    "# 精度-召回率-F"
   ]
  },
  {
   "cell_type": "code",
   "execution_count": 5,
   "metadata": {},
   "outputs": [
    {
     "name": "stdout",
     "output_type": "stream",
     "text": [
      "Algorithm:2012_param\n",
      "  Precision:0.6615\n",
      "  Recall:   0.1819\n",
      "  F1 Score: 0.2854\n",
      "\n",
      "Algorithm:2014_fast\n",
      "  Precision:0.4879\n",
      "  Recall:   0.2701\n",
      "  F1 Score: 0.3477\n",
      "\n",
      "Algorithm:2017_fast\n",
      "  Precision:0.4826\n",
      "  Recall:   0.2341\n",
      "  F1 Score: 0.3153\n",
      "\n",
      "Algorithm:2018_high\n",
      "  Precision:0.7945\n",
      "  Recall:   0.3054\n",
      "  F1 Score: 0.4412\n",
      "\n",
      "Algorithm:canny\n",
      "  Precision:0.8187\n",
      "  Recall:   0.5127\n",
      "  F1 Score: 0.6305\n",
      "\n",
      "Algorithm:proposed\n",
      "  Precision:0.8165\n",
      "  Recall:   0.7123\n",
      "  F1 Score: 0.7608\n",
      "\n"
     ]
    }
   ],
   "source": [
    "import re\n",
    "from experiment import * \n",
    "\n",
    "results = dict()\n",
    "\n",
    "for dd in dirs:\n",
    "    \n",
    "    prs = []\n",
    "    \n",
    "    if len(os.listdir(base_path + dd))<len(fnames):\n",
    "        continue\n",
    "    \n",
    "    for name in fnames:\n",
    "        lname = base_path + dd + '/' + name + '.txt'\n",
    "\n",
    "        with open(lname,'r') as f:\n",
    "            txt = f.read()\n",
    "            txt = txt.strip()\n",
    "            \n",
    "            txt = re.sub(r'[\\f\\r\\t\\v]+',' ',txt)\n",
    "            if txt!='':\n",
    "                ells_t = [[float(v) for v in l.split(' ')] for l in txt.split('\\n') if len(l.split(' '))==5]\n",
    "            \n",
    "                prs.append(ells_t)\n",
    "            else:\n",
    "                prs.append([])\n",
    "            \n",
    "    results[dd] = prs\n",
    "    print(f'Algorithm:{dd}')\n",
    "    \n",
    "    precision,recall,F1,pr_ratio,gt_ratio = cal_metrics(prs,gts)\n",
    "    \n",
    "    print('  Precision:%.4f' % precision)\n",
    "    print('  Recall:   %.4f' % recall)\n",
    "    print('  F1 Score: %.4f' % F1)\n",
    "    print('')"
   ]
  },
  {
   "cell_type": "markdown",
   "metadata": {},
   "source": [
    "# 加载模型"
   ]
  },
  {
   "cell_type": "code",
   "execution_count": 6,
   "metadata": {},
   "outputs": [],
   "source": [
    "sys.path.append('/home/liucc/Workspace/02_Ellipse/02_algorithm/01_cnn')\n",
    "from cnn_model import *\n",
    "\n",
    "model_path = r'/home/liucc/Workspace/02_Ellipse/06_model/'\n",
    "model_name = r'ellipse-2'\n",
    "\n",
    "device = torch.device('cuda:0' if torch.cuda.is_available() else 'cpu')\n",
    "#device = torch.device('cpu')\n",
    "model = RestoreNet().to(device)\n",
    "\n",
    "model.load_state_dict(torch.load(f'{model_path}{model_name}.mdl')['state_dict'])"
   ]
  },
  {
   "cell_type": "markdown",
   "metadata": {},
   "source": [
    "# 示例图"
   ]
  },
  {
   "cell_type": "code",
   "execution_count": null,
   "metadata": {
    "scrolled": false
   },
   "outputs": [],
   "source": [
    "%matplotlib inline\n",
    "import sys\n",
    "sys.path.append('/home/liucc/Workspace/02_Ellipse/01_data')\n",
    "from cc_process_image import *\n",
    "from matplotlib.backends.backend_pdf import PdfPages\n",
    "import matplotlib.pyplot as plt\n",
    "import matplotlib.gridspec as gridspec\n",
    "from skimage.color import rgb2gray\n",
    "from pylab import *\n",
    "from skimage.morphology import thin\n",
    "\n",
    "from matplotlib.font_manager import FontProperties\n",
    "fp = FontProperties(family=\"DejaVu Sans\",size=18)\n",
    "\n",
    "title = {'2012_param':'ELSD',\n",
    "         '2014_fast':'Fornaciari',\n",
    "         '2017_fast':'Qi',\n",
    "         '2018_high':'Lu',\n",
    "         'canny':\"Edge\",\n",
    "         'Raw Edge':\"Edge\",\n",
    "         'Thin Edge':\"Thin Edge\",\n",
    "         'proposed':'Our',\n",
    "         'original':'Original',\n",
    "         'GT':'GT'}\n",
    "\n",
    "examples = list(range(10))\n",
    "num = len(examples)\n",
    "\n",
    "hs = np.array([m.shape[0]/m.shape[1] for m in raws])\n",
    "hs = hs[examples]\n",
    "\n",
    "segs = ['2012_param','2014_fast','2017_fast','2018_high','Raw Edge','proposed']\n",
    "anum = len(segs)+2\n",
    "\n",
    "fig = plt.figure(figsize=(20,sum(hs)*20/anum+0.1),dpi=300)\n",
    "gs = gridspec.GridSpec(num,anum,\n",
    "                       wspace=0.0,\n",
    "                       hspace=0.0,\n",
    "                       width_ratios=[1]*anum,\n",
    "                       height_ratios=hs,\n",
    "                       )\n",
    "\n",
    "for i,alg in enumerate(segs):\n",
    "    \n",
    "    prs = results[alg]\n",
    "                      \n",
    "    for j in range(num):\n",
    "        \n",
    "        ax = fig.add_subplot(gs[j,i+2])\n",
    "        _id = examples[j]\n",
    "        raw = raws[_id]\n",
    "        \n",
    "        if alg==\"Thin Edge\":\n",
    "            im = preprocess_image(rgb2gray(raw))\n",
    "            edge = predict(model,im,device)\n",
    "            edge = postprocess_image(edge,thr=0.5)\n",
    "            edge = thin(edge)\n",
    "            ax.imshow(edge,cmap='gray',interpolation=\"bilinear\")\n",
    "        elif alg==\"Raw Edge\":\n",
    "            im = preprocess_image(rgb2gray(raw))\n",
    "            edge = predict(model,im,device)\n",
    "            ax.imshow(edge,cmap='gray',interpolation=\"bilinear\")\n",
    "        else:\n",
    "            pr = prs[_id]\n",
    "            draw_ellipse(pr,ax,'red',1,wire=True)\n",
    "            gray = rgb2gray(raw)\n",
    "            ax.imshow(gray,cmap='gray',alpha=0.5)\n",
    "        \n",
    "        if j==0:\n",
    "            ax.set_title(title[alg],fontproperties=fp)\n",
    "            \n",
    "        ax.axis('off')\n",
    "    \n",
    "for j in range(num):\n",
    "    ax = fig.add_subplot(gs[j,0])\n",
    "    \n",
    "    _id = examples[j]\n",
    "    if j==0:\n",
    "        ax.set_title(title['original'],fontproperties=fp)\n",
    "        \n",
    "    ax.imshow(raws[_id])\n",
    "    ax.axis('off')\n",
    "    \n",
    "for j in range(num):\n",
    "    ax = fig.add_subplot(gs[j,1])\n",
    "    \n",
    "    _id = examples[j]\n",
    "    gray = rgb2gray(raws[_id])\n",
    "    draw_ellipse(gts[_id],ax,'red',1,wire=True)\n",
    "    if j==0:\n",
    "        ax.set_title(title['GT'],fontproperties=fp)\n",
    "        \n",
    "    ax.imshow(gray,cmap='gray',alpha=0.5)\n",
    "    ax.axis('off')\n",
    "    \n",
    "\n",
    "\n",
    "plt.show()\n",
    "\n",
    "pp = PdfPages('images/comparison_industry.pdf')\n",
    "pp.savefig(fig)\n",
    "pp.close()"
   ]
  },
  {
   "cell_type": "markdown",
   "metadata": {},
   "source": [
    "# 召回率随半径变化"
   ]
  },
  {
   "cell_type": "code",
   "execution_count": 14,
   "metadata": {},
   "outputs": [],
   "source": [
    "import re\n",
    "from experiment import * \n",
    "\n",
    "def get_recalls(prs,gts):\n",
    "    recalled = []\n",
    "    missed = []\n",
    "    for pr,gt in zip(prs,gts):\n",
    "        r1,r2 = cal_ratio_all(pr,gt)\n",
    "        \n",
    "        for i in r2:\n",
    "            \n",
    "            if r2[i]>0.7:\n",
    "                recalled.append(min(gt[i][2],gt[i][3]))\n",
    "            else:\n",
    "                missed.append(min(gt[i][2],gt[i][3]))\n",
    "    \n",
    "    return recalled,missed"
   ]
  },
  {
   "cell_type": "code",
   "execution_count": 15,
   "metadata": {},
   "outputs": [
    {
     "name": "stdout",
     "output_type": "stream",
     "text": [
      "Algorithm:2012_param\n",
      "Algorithm:2014_fast\n",
      "Algorithm:2017_fast\n",
      "Algorithm:2018_high\n",
      "Algorithm:canny\n",
      "Algorithm:proposed\n"
     ]
    }
   ],
   "source": [
    "recalls = dict()\n",
    "misses = dict()\n",
    "\n",
    "for dd in dirs:\n",
    "    \n",
    "    prs = []\n",
    "    \n",
    "    if len(os.listdir(base_path + dd))<len(fnames):\n",
    "        continue\n",
    "    \n",
    "    for name in fnames:\n",
    "        lname = base_path + dd + '/' + name + '.txt'\n",
    "\n",
    "        with open(lname,'r') as f:\n",
    "            txt = f.read()\n",
    "            txt = txt.strip()\n",
    "            \n",
    "            txt = re.sub(r'[\\f\\r\\t\\v]+',' ',txt)\n",
    "            if txt!='':\n",
    "                ells_t = [[float(v) for v in l.split(' ')] for l in txt.split('\\n') if len(l.split(' '))==5]\n",
    "            \n",
    "                prs.append(ells_t)\n",
    "            else:\n",
    "                prs.append([])\n",
    "            \n",
    "    recalls[dd],misses[dd] = get_recalls(prs,gts)\n",
    "    \n",
    "    print(f'Algorithm:{dd}')\n",
    "    \n"
   ]
  },
  {
   "cell_type": "code",
   "execution_count": 16,
   "metadata": {},
   "outputs": [
    {
     "data": {
      "image/png": "[encoded data removed]",
      "text/plain": [
       "<Figure size 1440x720 with 6 Axes>"
      ]
     },
     "metadata": {},
     "output_type": "display_data"
    }
   ],
   "source": [
    "%matplotlib inline\n",
    "import matplotlib.pyplot as plt\n",
    "_,axes = plt.subplots(nrows=2,ncols=3,figsize=(20,10))\n",
    "\n",
    "axes = axes.reshape(-1)\n",
    "for dd,ax in zip(recalls,axes):\n",
    "    data = recalls[dd]\n",
    "    data = np.round(data)\n",
    "    \n",
    "    ax.hist(data,bins=100)\n",
    "    \n",
    "plt.show()"
   ]
  },
  {
   "cell_type": "markdown",
   "metadata": {},
   "source": [
    "## 半长轴50以下的椭圆"
   ]
  },
  {
   "cell_type": "code",
   "execution_count": 17,
   "metadata": {},
   "outputs": [],
   "source": [
    "bars = dict()\n",
    "ranges = [(0,10),(10,100),(100,Inf)]\n",
    "for dd in recalls:\n",
    "    bars[dd] = []\n",
    "    for minor1,minor2 in ranges:\n",
    "        num_recall = len([b for b in recalls[dd] if b<=minor2 and b>minor1])\n",
    "        num_miss = len([b for b in misses[dd] if b<=minor2 and b>minor1])\n",
    "        bars[dd].append(num_recall/(num_recall+num_miss))\n",
    "    \n"
   ]
  },
  {
   "cell_type": "code",
   "execution_count": 18,
   "metadata": {},
   "outputs": [
    {
     "name": "stdout",
     "output_type": "stream",
     "text": [
      "ratio_10:0.4675599435825106\n",
      "ratio10_100:0.4696755994358251\n",
      "ratio100+:0.06276445698166432\n"
     ]
    }
   ],
   "source": [
    "num_10 = len([b for b in recalls['proposed']+misses['proposed'] if b<=10])\n",
    "num_10_100 = len([b for b in recalls['proposed']+misses['proposed'] if b<=100 and b>10])\n",
    "num_100_ = len([b for b in recalls['proposed']+misses['proposed'] if b>100])\n",
    "num_all = len(recalls['proposed']+misses['proposed'])\n",
    "\n",
    "ratio_10 = num_10/(num_all)\n",
    "ratio_10_100 = num_10_100/(num_all)\n",
    "ratio_100_ = num_100_/(num_all)\n",
    "\n",
    "print(\"ratio_10:\"+str(ratio_10))\n",
    "print(\"ratio10_100:\"+str(ratio_10_100))\n",
    "print(\"ratio100+:\"+str(ratio_100_))"
   ]
  },
  {
   "cell_type": "code",
   "execution_count": 19,
   "metadata": {},
   "outputs": [
    {
     "data": {
      "image/png": "[encoded data removed]",
      "text/plain": [
       "<Figure size 1440x720 with 1 Axes>"
      ]
     },
     "metadata": {},
     "output_type": "display_data"
    }
   ],
   "source": [
    "from matplotlib.backends.backend_pdf import PdfPages\n",
    "import matplotlib.pyplot as plt\n",
    "from matplotlib.font_manager import FontProperties\n",
    "\n",
    "fp = FontProperties(family=\"DejaVu Sans\",size=22)\n",
    "fp2 = FontProperties(family=\"DejaVu Sans\",size=26)\n",
    "\n",
    "fig, ax = plt.subplots(figsize=(20,10))\n",
    "\n",
    "xt = np.arange(len(ranges))\n",
    "width = 0.1\n",
    "for i,dd in enumerate(bars):\n",
    "    ax.bar(xt+(i-3)*0.1,bars[dd],width,label=title[dd])\n",
    "    \n",
    "ax.set_yticks(np.arange(0,1.1,0.2))\n",
    "ax.set_yticklabels(['%.1f'%v for v in np.arange(0,1.1,0.2)], fontproperties=fp)\n",
    "ax.set_xticks(xt)\n",
    "ax.set_xticklabels(['$0-10$','$10-100$','$100- \\infty$'],fontproperties=fp)\n",
    "ax.set_xlabel('Semi-minor axis (pixels)',fontproperties=fp2)\n",
    "ax.set_ylabel('Recall',fontproperties=fp2)\n",
    "\n",
    "ax.text(-0.2, 0.5, \"46.76%\", fontproperties=fp)\n",
    "ax.text(0.9, 0.8, \"46.97%\", fontproperties=fp)\n",
    "ax.text(1.9, 0.9, \"6.28%\", fontproperties=fp)\n",
    "ax.legend(prop =fp)\n",
    "\n",
    "plt.show()\n",
    "\n",
    "pp = PdfPages('images/comparison_recall.pdf')\n",
    "pp.savefig(fig)\n",
    "pp.close()\n",
    "\n"
   ]
  },
  {
   "cell_type": "code",
   "execution_count": null,
   "metadata": {},
   "outputs": [],
   "source": []
  }
 ],
 "metadata": {
  "kernelspec": {
   "display_name": "Python 3",
   "language": "python",
   "name": "python3"
  },
  "language_info": {
   "codemirror_mode": {
    "name": "ipython",
    "version": 3
   },
   "file_extension": ".py",
   "mimetype": "text/x-python",
   "name": "python",
   "nbconvert_exporter": "python",
   "pygments_lexer": "ipython3",
   "version": "3.6.5"
  },
  "toc": {
   "base_numbering": 1,
   "nav_menu": {},
   "number_sections": true,
   "sideBar": true,
   "skip_h1_title": false,
   "title_cell": "目录",
   "title_sidebar": "目录",
   "toc_cell": true,
   "toc_position": {},
   "toc_section_display": true,
   "toc_window_display": true
  }
 },
 "nbformat": 4,
 "nbformat_minor": 2
}
