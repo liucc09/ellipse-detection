{
 "cells": [
  {
   "cell_type": "markdown",
   "metadata": {
    "toc": true
   },
   "source": [
    "<h1>目录<span class=\"tocSkip\"></span></h1>\n",
    "<div class=\"toc\"><ul class=\"toc-item\"><li><span><a href=\"#加载数据和模型\" data-toc-modified-id=\"加载数据和模型-1\"><span class=\"toc-item-num\">1&nbsp;&nbsp;</span>加载数据和模型</a></span></li><li><span><a href=\"#精度，召回率，F和时间随参数的变化\" data-toc-modified-id=\"精度，召回率，F和时间随参数的变化-2\"><span class=\"toc-item-num\">2&nbsp;&nbsp;</span>精度，召回率，F和时间随参数的变化</a></span><ul class=\"toc-item\"><li><span><a href=\"#随MAX_DIS变化\" data-toc-modified-id=\"随MAX_DIS变化-2.1\"><span class=\"toc-item-num\">2.1&nbsp;&nbsp;</span>随MAX_DIS变化</a></span></li><li><span><a href=\"#随MAX_ANGLE变化\" data-toc-modified-id=\"随MAX_ANGLE变化-2.2\"><span class=\"toc-item-num\">2.2&nbsp;&nbsp;</span>随MAX_ANGLE变化</a></span></li><li><span><a href=\"#随MIN_LEN变化\" data-toc-modified-id=\"随MIN_LEN变化-2.3\"><span class=\"toc-item-num\">2.3&nbsp;&nbsp;</span>随MIN_LEN变化</a></span></li><li><span><a href=\"#随MIN_COVER_ANGLE变化\" data-toc-modified-id=\"随MIN_COVER_ANGLE变化-2.4\"><span class=\"toc-item-num\">2.4&nbsp;&nbsp;</span>随MIN_COVER_ANGLE变化</a></span></li><li><span><a href=\"#随MIN_COVER_RHO1变化\" data-toc-modified-id=\"随MIN_COVER_RHO1变化-2.5\"><span class=\"toc-item-num\">2.5&nbsp;&nbsp;</span>随MIN_COVER_RHO1变化</a></span></li><li><span><a href=\"#随MIN_COVER_RHO2变化\" data-toc-modified-id=\"随MIN_COVER_RHO2变化-2.6\"><span class=\"toc-item-num\">2.6&nbsp;&nbsp;</span>随MIN_COVER_RHO2变化</a></span></li></ul></li></ul></div>"
   ]
  },
  {
   "cell_type": "code",
   "execution_count": 1,
   "metadata": {},
   "outputs": [],
   "source": [
    "%matplotlib inline\n",
    "raw_path = r'/home/liucc/Workspace/02_Ellipse/03_results/01_industry/01_raw/'\n",
    "label_path = r'/home/liucc/Workspace/02_Ellipse/03_results/01_industry/04_ellipse_label/'"
   ]
  },
  {
   "cell_type": "code",
   "execution_count": 2,
   "metadata": {},
   "outputs": [
    {
     "name": "stdout",
     "output_type": "stream",
     "text": [
      "['001', '002', '003', '004', '005', '006', '007', '008', '009', '010']\n"
     ]
    }
   ],
   "source": [
    "import os \n",
    "fnames = os.listdir(raw_path)\n",
    "fnames = [n[:-4] for n in fnames if n[-3:]=='jpg']\n",
    "fnames.sort()\n",
    "print(fnames[:10])"
   ]
  },
  {
   "cell_type": "markdown",
   "metadata": {},
   "source": [
    "# 加载数据和模型"
   ]
  },
  {
   "cell_type": "code",
   "execution_count": 3,
   "metadata": {},
   "outputs": [
    {
     "name": "stderr",
     "output_type": "stream",
     "text": [
      "/home/liucc/anaconda3/lib/python3.6/site-packages/skimage/util/dtype.py:122: UserWarning: Possible precision loss when converting from float64 to uint8\n",
      "  .format(dtypeobj_in, dtypeobj_out))\n"
     ]
    },
    {
     "name": "stdout",
     "output_type": "stream",
     "text": [
      "66\n"
     ]
    }
   ],
   "source": [
    "import sys\n",
    "sys.path.append('/home/liucc/Workspace/02_Ellipse/01_data')\n",
    "from cc_process_image import *\n",
    "import imageio\n",
    "\n",
    "raws = get_all_images(f'{raw_path}',fnames,'jpg')\n",
    "\n",
    "print(len(raws))"
   ]
  },
  {
   "cell_type": "code",
   "execution_count": 4,
   "metadata": {},
   "outputs": [
    {
     "name": "stdout",
     "output_type": "stream",
     "text": [
      "66\n"
     ]
    }
   ],
   "source": [
    "gts = []\n",
    "\n",
    "for name in fnames:\n",
    "    lname = label_path+name+'.txt'\n",
    "    \n",
    "    with open(lname,'r') as f:\n",
    "        txt = f.read()\n",
    "        \n",
    "        ells_t = [[float(v) for v in l.split(' ')] for l in txt.split('\\n')]\n",
    "        \n",
    "        gts.append(ells_t)\n",
    "        \n",
    "\n",
    "print(len(gts))"
   ]
  },
  {
   "cell_type": "markdown",
   "metadata": {},
   "source": [
    "# 精度，召回率，F和时间随参数的变化"
   ]
  },
  {
   "cell_type": "code",
   "execution_count": 5,
   "metadata": {},
   "outputs": [],
   "source": [
    "import sys\n",
    "sys.path.append('/home/liucc/Workspace/02_Ellipse/02_algorithm/02_ellipse_detect')\n",
    "from cc_ellipse_v2 import *\n",
    "from experiment import *"
   ]
  },
  {
   "cell_type": "code",
   "execution_count": 8,
   "metadata": {},
   "outputs": [],
   "source": [
    "import time\n",
    "from skimage.feature import canny\n",
    "\n",
    "def one_task(glob):\n",
    "    start = time.time()\n",
    "\n",
    "    prs = []\n",
    "    \n",
    "    for im in raws:\n",
    "        im = preprocess_image(im)\n",
    "        imo = canny(im, sigma=2)\n",
    "        ells = detect_ellipses_im(imo,glob)\n",
    "        \n",
    "        prs.append(ells)\n",
    "\n",
    "    end = time.time()\n",
    "    \n",
    "    costT = (end-start)/len(raws)\n",
    "    \n",
    "    precision,recall,F1,_,_ = cal_metrics(prs,gts)\n",
    "    \n",
    "    #print(precision,recall,F1,costT)\n",
    "    \n",
    "    return [precision,recall,F1,costT]"
   ]
  },
  {
   "cell_type": "code",
   "execution_count": 21,
   "metadata": {},
   "outputs": [
    {
     "data": {
      "text/plain": [
       "[0.8186936936936937, 0.5126939351198871, 0.6305290546400694, 1.080109675725301]"
      ]
     },
     "execution_count": 21,
     "metadata": {},
     "output_type": "execute_result"
    }
   ],
   "source": [
    "#全局参数\n",
    "GLOB = {\n",
    "    'MAX_FIT_DIS':4,\n",
    "    'MAX_DIS':0,\n",
    "    'MAX_ANGLE':40,\n",
    "    'MIN_LEN' : 30,\n",
    "    'MIN_COVER_ANGLE' : 140,\n",
    "    'MIN_COVER_RHO1' : 0.5,\n",
    "    'MIN_COVER_RHO2' : 0.4,\n",
    "}\n",
    "one_task(GLOB)"
   ]
  },
  {
   "cell_type": "markdown",
   "metadata": {},
   "source": [
    "## 随MAX_DIS变化"
   ]
  },
  {
   "cell_type": "code",
   "execution_count": 11,
   "metadata": {},
   "outputs": [
    {
     "name": "stdout",
     "output_type": "stream",
     "text": [
      "0:[0.6544876886417792, 0.5811001410437235, 0.615614493836384, 1.1067602634429932]\n",
      "10:[0.6534496431403648, 0.5811001410437235, 0.6151549085479657, 1.0687275221853545]\n",
      "20:[0.6518987341772152, 0.5811001410437235, 0.6144668158090978, 1.0837179711370757]\n",
      "30:[0.6486697965571205, 0.5846262341325811, 0.6149851632047477, 1.1035451347177678]\n"
     ]
    }
   ],
   "source": [
    "from matplotlib.font_manager import FontProperties\n",
    "fp1 = FontProperties(family=\"DejaVu Sans\",size=20)\n",
    "fp2 = FontProperties(family=\"DejaVu Sans\",size=18)\n",
    "\n",
    "GLOB = {\n",
    "    'MAX_FIT_DIS':4,\n",
    "    'MAX_DIS':0,\n",
    "    'MAX_ANGLE':40,\n",
    "    'MIN_LEN' : 20,\n",
    "    'MIN_COVER_ANGLE' : 120,\n",
    "    'MIN_COVER_RHO1' : 0.4,\n",
    "    'MIN_COVER_RHO2' : 0.3,\n",
    "}\n",
    "\n",
    "res01 = []\n",
    "xs01 = list(range(0,40,10))\n",
    "for x in xs01:\n",
    "    GLOB['MAX_DIS'] = x\n",
    "    res = one_task(GLOB)\n",
    "    res01.append(res)\n",
    "    print(f'{x}:{res}')"
   ]
  },
  {
   "cell_type": "markdown",
   "metadata": {},
   "source": [
    "## 随MAX_ANGLE变化"
   ]
  },
  {
   "cell_type": "code",
   "execution_count": 12,
   "metadata": {},
   "outputs": [
    {
     "name": "stdout",
     "output_type": "stream",
     "text": [
      "30:[0.6501597444089456, 0.5740479548660085, 0.6097378277153557, 1.115043408942945]\n",
      "40:[0.6544876886417792, 0.5811001410437235, 0.615614493836384, 1.0913130261681296]\n",
      "50:[0.6438035853468433, 0.5825105782792666, 0.6116253239540911, 1.075164845495513]\n",
      "60:[0.6422513492675405, 0.5874471086036671, 0.6136279926335175, 0.9187812516183564]\n",
      "70:[0.6311787072243346, 0.5853314527503526, 0.6073911452616172, 1.0762237743897871]\n",
      "80:[0.6237772761474794, 0.5846262341325811, 0.6035675282125955, 1.1037329543720593]\n"
     ]
    }
   ],
   "source": [
    "from matplotlib.font_manager import FontProperties\n",
    "fp1 = FontProperties(family=\"DejaVu Sans\",size=20)\n",
    "fp2 = FontProperties(family=\"DejaVu Sans\",size=18)\n",
    "\n",
    "GLOB = {\n",
    "    'MAX_FIT_DIS':4,\n",
    "    'MAX_DIS':0,\n",
    "    'MAX_ANGLE':40,\n",
    "    'MIN_LEN' : 20,\n",
    "    'MIN_COVER_ANGLE' : 120,\n",
    "    'MIN_COVER_RHO1' : 0.4,\n",
    "    'MIN_COVER_RHO2' : 0.3,\n",
    "}\n",
    "\n",
    "res02 = []\n",
    "xs02 = list(range(30,90,10))\n",
    "for x in xs02:\n",
    "    GLOB['MAX_ANGLE'] = x\n",
    "    res = one_task(GLOB)\n",
    "    res02.append(res)\n",
    "    print(f'{x}:{res}')"
   ]
  },
  {
   "cell_type": "markdown",
   "metadata": {},
   "source": [
    "## 随MIN_LEN变化"
   ]
  },
  {
   "cell_type": "code",
   "execution_count": 17,
   "metadata": {},
   "outputs": [
    {
     "name": "stdout",
     "output_type": "stream",
     "text": [
      "10:[0.6334355828220859, 0.5825105782792666, 0.6069066862601029, 1.0141292774316035]\n",
      "20:[0.6544876886417792, 0.5811001410437235, 0.615614493836384, 1.0820574182452578]\n",
      "30:[0.7006255585344057, 0.5528913963328632, 0.6180528182893181, 1.0843325528231533]\n",
      "40:[0.7303030303030303, 0.5098730606488011, 0.600498338870432, 1.0586144129435222]\n"
     ]
    }
   ],
   "source": [
    "from matplotlib.font_manager import FontProperties\n",
    "fp1 = FontProperties(family=\"DejaVu Sans\",size=20)\n",
    "fp2 = FontProperties(family=\"DejaVu Sans\",size=18)\n",
    "\n",
    "GLOB = {\n",
    "    'MAX_FIT_DIS':4,\n",
    "    'MAX_DIS':0,\n",
    "    'MAX_ANGLE':40,\n",
    "    'MIN_LEN' : 30,\n",
    "    'MIN_COVER_ANGLE' : 120,\n",
    "    'MIN_COVER_RHO1' : 0.4,\n",
    "    'MIN_COVER_RHO2' : 0.3,\n",
    "}\n",
    "\n",
    "res1 = []\n",
    "xs1 = list(range(10,50,10))\n",
    "for x in xs1:\n",
    "    GLOB['MIN_LEN'] = x\n",
    "    res = one_task(GLOB)\n",
    "    res1.append(res)\n",
    "    print(f'{x}:{res}')"
   ]
  },
  {
   "cell_type": "markdown",
   "metadata": {},
   "source": [
    "## 随MIN_COVER_ANGLE变化"
   ]
  },
  {
   "cell_type": "code",
   "execution_count": 18,
   "metadata": {},
   "outputs": [
    {
     "name": "stdout",
     "output_type": "stream",
     "text": [
      "100:[0.6788445199660152, 0.5634696755994358, 0.6157996146435453, 1.0046431982156]\n",
      "120:[0.7006255585344057, 0.5528913963328632, 0.6180528182893181, 1.1188142624768345]\n",
      "140:[0.7311320754716981, 0.5465444287729196, 0.6255044390637612, 1.073564836473176]\n",
      "160:[0.7524850894632207, 0.5338504936530324, 0.6245874587458745, 1.0872209758469553]\n",
      "180:[0.7734457323498419, 0.5176304654442877, 0.6201943388255174, 1.0751049337965068]\n"
     ]
    }
   ],
   "source": [
    "GLOB = {\n",
    "    'MAX_FIT_DIS':4,\n",
    "    'MAX_DIS':0,\n",
    "    'MAX_ANGLE':40,\n",
    "    'MIN_LEN' : 30,\n",
    "    'MIN_COVER_ANGLE' : 140,\n",
    "    'MIN_COVER_RHO1' : 0.4,\n",
    "    'MIN_COVER_RHO2' : 0.3,\n",
    "}\n",
    "\n",
    "res2 = []\n",
    "xs2 = np.arange(100,181,20)\n",
    "for x in xs2:\n",
    "    GLOB['MIN_COVER_ANGLE'] = x\n",
    "    res = one_task(GLOB)\n",
    "    res2.append(res)\n",
    "    print(f'{x}:{res}')"
   ]
  },
  {
   "cell_type": "markdown",
   "metadata": {},
   "source": [
    "## 随MIN_COVER_RHO1变化"
   ]
  },
  {
   "cell_type": "code",
   "execution_count": 19,
   "metadata": {},
   "outputs": [
    {
     "name": "stdout",
     "output_type": "stream",
     "text": [
      "0.3:[0.7238183503243745, 0.5507757404795487, 0.6255506607929516, 1.0298127622315378]\n",
      "0.4:[0.7311320754716981, 0.5465444287729196, 0.6255044390637612, 1.1222271666382297]\n",
      "0.5:[0.7561942517343905, 0.5380818053596615, 0.6287597857437165, 1.0705036972508286]\n",
      "0.6000000000000001:[0.7744034707158352, 0.5035260930888575, 0.6102564102564103, 1.0586770881306042]\n"
     ]
    }
   ],
   "source": [
    "GLOB = {\n",
    "    'MAX_FIT_DIS':4,\n",
    "    'MAX_DIS':0,\n",
    "    'MAX_ANGLE':40,\n",
    "    'MIN_LEN' : 30,\n",
    "    'MIN_COVER_ANGLE' : 140,\n",
    "    'MIN_COVER_RHO1' : 0.5,\n",
    "    'MIN_COVER_RHO2' : 0.3,\n",
    "}\n",
    "\n",
    "res3 = []\n",
    "xs3 = np.arange(0.3,0.7,0.1)\n",
    "for x in xs3:\n",
    "    GLOB['MIN_COVER_RHO1'] = x\n",
    "    res = one_task(GLOB)\n",
    "    res3.append(res)\n",
    "    print(f'{x}:{res}')"
   ]
  },
  {
   "cell_type": "markdown",
   "metadata": {},
   "source": [
    "## 随MIN_COVER_RHO2变化"
   ]
  },
  {
   "cell_type": "code",
   "execution_count": 20,
   "metadata": {},
   "outputs": [
    {
     "name": "stdout",
     "output_type": "stream",
     "text": [
      "0.0:[0.7037374658158614, 0.5444287729196051, 0.6139165009940358, 1.0573296727556172]\n",
      "0.1:[0.7037374658158614, 0.5444287729196051, 0.6139165009940358, 1.0422324773037073]\n",
      "0.2:[0.7076076993583869, 0.5444287729196051, 0.6153846153846154, 1.0571448730699944]\n",
      "0.30000000000000004:[0.7561942517343905, 0.5380818053596615, 0.6287597857437165, 1.0543191324580798]\n",
      "0.4:[0.8186936936936937, 0.5126939351198871, 0.6305290546400694, 1.0672889189286665]\n",
      "0.5:[0.8860569715142429, 0.41678420310296194, 0.5669064748201439, 1.093539667851997]\n"
     ]
    }
   ],
   "source": [
    "GLOB = {\n",
    "    'MAX_FIT_DIS':4,\n",
    "    'MAX_DIS':0,\n",
    "    'MAX_ANGLE':40,\n",
    "    'MIN_LEN' : 30,\n",
    "    'MIN_COVER_ANGLE' : 140,\n",
    "    'MIN_COVER_RHO1' : 0.5,\n",
    "    'MIN_COVER_RHO2' : 0.4,\n",
    "}\n",
    "\n",
    "\n",
    "res4 = []\n",
    "xs4 = np.arange(0,0.6,0.1)\n",
    "for x in xs4:\n",
    "    GLOB['MIN_COVER_RHO2'] = x\n",
    "    res = one_task(GLOB)\n",
    "    res4.append(res)\n",
    "    print(f'{x}:{res}')"
   ]
  },
  {
   "cell_type": "code",
   "execution_count": null,
   "metadata": {},
   "outputs": [],
   "source": []
  }
 ],
 "metadata": {
  "kernelspec": {
   "display_name": "Python 3",
   "language": "python",
   "name": "python3"
  },
  "language_info": {
   "codemirror_mode": {
    "name": "ipython",
    "version": 3
   },
   "file_extension": ".py",
   "mimetype": "text/x-python",
   "name": "python",
   "nbconvert_exporter": "python",
   "pygments_lexer": "ipython3",
   "version": "3.6.5"
  },
  "toc": {
   "base_numbering": 1,
   "nav_menu": {},
   "number_sections": true,
   "sideBar": true,
   "skip_h1_title": false,
   "title_cell": "目录",
   "title_sidebar": "目录",
   "toc_cell": true,
   "toc_position": {
    "height": "calc(100% - 180px)",
    "left": "10px",
    "top": "150px",
    "width": "273px"
   },
   "toc_section_display": true,
   "toc_window_display": true
  }
 },
 "nbformat": 4,
 "nbformat_minor": 2
}
