{
 "cells": [
  {
   "cell_type": "markdown",
   "metadata": {
    "toc": true
   },
   "source": [
    "<h1>目录<span class=\"tocSkip\"></span></h1>\n",
    "<div class=\"toc\"><ul class=\"toc-item\"><li><span><a href=\"#预处理\" data-toc-modified-id=\"预处理-1\"><span class=\"toc-item-num\">1&nbsp;&nbsp;</span>预处理</a></span></li><li><span><a href=\"#加载数据和模型\" data-toc-modified-id=\"加载数据和模型-2\"><span class=\"toc-item-num\">2&nbsp;&nbsp;</span>加载数据和模型</a></span></li><li><span><a href=\"#精度，召回率，F和时间随参数的变化\" data-toc-modified-id=\"精度，召回率，F和时间随参数的变化-3\"><span class=\"toc-item-num\">3&nbsp;&nbsp;</span>精度，召回率，F和时间随参数的变化</a></span><ul class=\"toc-item\"><li><span><a href=\"#随MAX_DIS变化\" data-toc-modified-id=\"随MAX_DIS变化-3.1\"><span class=\"toc-item-num\">3.1&nbsp;&nbsp;</span>随MAX_DIS变化</a></span></li><li><span><a href=\"#随MAX_ANGLE变化\" data-toc-modified-id=\"随MAX_ANGLE变化-3.2\"><span class=\"toc-item-num\">3.2&nbsp;&nbsp;</span>随MAX_ANGLE变化</a></span></li><li><span><a href=\"#随MIN_LEN变化\" data-toc-modified-id=\"随MIN_LEN变化-3.3\"><span class=\"toc-item-num\">3.3&nbsp;&nbsp;</span>随MIN_LEN变化</a></span></li><li><span><a href=\"#随MIN_COVER_ANGLE变化\" data-toc-modified-id=\"随MIN_COVER_ANGLE变化-3.4\"><span class=\"toc-item-num\">3.4&nbsp;&nbsp;</span>随MIN_COVER_ANGLE变化</a></span></li><li><span><a href=\"#随MIN_COVER_RHO1变化\" data-toc-modified-id=\"随MIN_COVER_RHO1变化-3.5\"><span class=\"toc-item-num\">3.5&nbsp;&nbsp;</span>随MIN_COVER_RHO1变化</a></span></li><li><span><a href=\"#随MIN_COVER_RHO2变化\" data-toc-modified-id=\"随MIN_COVER_RHO2变化-3.6\"><span class=\"toc-item-num\">3.6&nbsp;&nbsp;</span>随MIN_COVER_RHO2变化</a></span></li></ul></li></ul></div>"
   ]
  },
  {
   "cell_type": "markdown",
   "metadata": {},
   "source": [
    "# 预处理"
   ]
  },
  {
   "cell_type": "code",
   "execution_count": 1,
   "metadata": {},
   "outputs": [],
   "source": [
    "%matplotlib inline\n",
    "dataset = '02_prasad'\n",
    "raw_path = f'/home/liucc/Workspace/02_Ellipse/03_results/{dataset}/01_raw/'\n",
    "label_path = f'/home/liucc/Workspace/02_Ellipse/03_results/{dataset}/04_ellipse_label/'"
   ]
  },
  {
   "cell_type": "code",
   "execution_count": 2,
   "metadata": {},
   "outputs": [
    {
     "name": "stdout",
     "output_type": "stream",
     "text": [
      "['001', '002', '003', '004', '005', '006', '007', '008', '009', '010']\n"
     ]
    }
   ],
   "source": [
    "import os \n",
    "fnames = os.listdir(raw_path)\n",
    "fnames = [n[:-4] for n in fnames if n[-3:]=='jpg']\n",
    "fnames.sort()\n",
    "print(fnames[:10])"
   ]
  },
  {
   "cell_type": "markdown",
   "metadata": {},
   "source": [
    "# 加载数据和模型"
   ]
  },
  {
   "cell_type": "code",
   "execution_count": 3,
   "metadata": {},
   "outputs": [
    {
     "name": "stderr",
     "output_type": "stream",
     "text": [
      "/home/liucc/anaconda3/lib/python3.6/site-packages/skimage/util/dtype.py:122: UserWarning: Possible precision loss when converting from float64 to uint8\n",
      "  .format(dtypeobj_in, dtypeobj_out))\n",
      "/home/liucc/anaconda3/lib/python3.6/site-packages/PIL/TiffImagePlugin.py:756: UserWarning: Corrupt EXIF data.  Expecting to read 12 bytes but only got 6. \n",
      "  warnings.warn(str(msg))\n"
     ]
    },
    {
     "name": "stdout",
     "output_type": "stream",
     "text": [
      "198\n"
     ]
    }
   ],
   "source": [
    "import sys\n",
    "sys.path.append('/home/liucc/Workspace/02_Ellipse/01_data')\n",
    "from cc_process_image import *\n",
    "import imageio\n",
    "\n",
    "raws = get_all_images(f'{raw_path}',fnames,'jpg',itype='gray')\n",
    "\n",
    "print(len(raws))"
   ]
  },
  {
   "cell_type": "code",
   "execution_count": 4,
   "metadata": {},
   "outputs": [
    {
     "name": "stdout",
     "output_type": "stream",
     "text": [
      "198\n"
     ]
    }
   ],
   "source": [
    "gts = []\n",
    "\n",
    "for name in fnames:\n",
    "    lname = label_path+name+'.txt'\n",
    "    \n",
    "    with open(lname,'r') as f:\n",
    "        txt = f.read()\n",
    "        \n",
    "        ells_t = [[float(v) for v in l.split(' ')] for l in txt.split('\\n')]\n",
    "        \n",
    "        gts.append(ells_t)\n",
    "        \n",
    "\n",
    "print(len(gts))"
   ]
  },
  {
   "cell_type": "markdown",
   "metadata": {},
   "source": [
    "# 精度，召回率，F和时间随参数的变化"
   ]
  },
  {
   "cell_type": "code",
   "execution_count": 5,
   "metadata": {},
   "outputs": [],
   "source": [
    "import sys\n",
    "sys.path.append('/home/liucc/Workspace/02_Ellipse/02_algorithm/02_ellipse_detect')\n",
    "from cc_ellipse_v2 import *\n",
    "sys.path.append('../')\n",
    "from experiment import *"
   ]
  },
  {
   "cell_type": "code",
   "execution_count": 13,
   "metadata": {},
   "outputs": [],
   "source": [
    "import time\n",
    "from skimage.feature import canny\n",
    "def one_task(glob):\n",
    "    start = time.time()\n",
    "\n",
    "    prs = []\n",
    "    \n",
    "    for im in raws:\n",
    "        im = preprocess_image(im)\n",
    "        imo = canny(im, sigma=2)\n",
    "        ells = detect_ellipses_im(imo,glob)\n",
    "        \n",
    "        prs.append(ells)\n",
    "\n",
    "    end = time.time()\n",
    "    \n",
    "    costT = (end-start)/len(raws)\n",
    "    \n",
    "    precision,recall,F1,_,_ = cal_metrics(prs,gts,threshold=0.8)\n",
    "    \n",
    "    \n",
    "    return [precision,recall,F1,costT]"
   ]
  },
  {
   "cell_type": "code",
   "execution_count": 27,
   "metadata": {},
   "outputs": [
    {
     "name": "stderr",
     "output_type": "stream",
     "text": [
      "/home/liucc/Workspace/02_Ellipse/02_algorithm/02_ellipse_detect/cc_ellipse_v2.py:555: RuntimeWarning: divide by zero encountered in double_scalars\n",
      "  MA = np.sqrt(FA1/(A+C+FA2)) #长轴\n",
      "/home/liucc/Workspace/02_Ellipse/02_algorithm/02_ellipse_detect/cc_ellipse_v2.py:555: RuntimeWarning: invalid value encountered in sqrt\n",
      "  MA = np.sqrt(FA1/(A+C+FA2)) #长轴\n"
     ]
    }
   ],
   "source": [
    "#全局参数\n",
    "GLOB = {\n",
    "    'MAX_FIT_DIS':2,\n",
    "    'MAX_DIS':110,\n",
    "    'MAX_ANGLE':50,\n",
    "    'MIN_LEN' : 50,\n",
    "    'MIN_COVER_ANGLE' : 120,\n",
    "    'MIN_COVER_RHO1' : 0.4,\n",
    "    'MIN_COVER_RHO2' : 0.3,\n",
    "}\n",
    "\n",
    "precision,recall,F1,costT = one_task(GLOB)"
   ]
  },
  {
   "cell_type": "code",
   "execution_count": 28,
   "metadata": {},
   "outputs": [
    {
     "name": "stdout",
     "output_type": "stream",
     "text": [
      "Precision:0.6841\n",
      "Recall:   0.3684\n",
      "F1 Score: 0.4789\n",
      "Avg Time: 470\n"
     ]
    }
   ],
   "source": [
    "print('Precision:%.4f' % precision)\n",
    "print('Recall:   %.4f' % recall)\n",
    "print('F1 Score: %.4f' % F1)\n",
    "print('Avg Time: %.0f' % (costT*1000))"
   ]
  },
  {
   "cell_type": "markdown",
   "metadata": {},
   "source": [
    "## 随MAX_DIS变化"
   ]
  },
  {
   "cell_type": "code",
   "execution_count": 17,
   "metadata": {},
   "outputs": [
    {
     "name": "stderr",
     "output_type": "stream",
     "text": [
      "/home/liucc/Workspace/02_Ellipse/02_algorithm/02_ellipse_detect/cc_ellipse_v2.py:555: RuntimeWarning: divide by zero encountered in double_scalars\n",
      "  MA = np.sqrt(FA1/(A+C+FA2)) #长轴\n",
      "/home/liucc/Workspace/02_Ellipse/02_algorithm/02_ellipse_detect/cc_ellipse_v2.py:555: RuntimeWarning: invalid value encountered in sqrt\n",
      "  MA = np.sqrt(FA1/(A+C+FA2)) #长轴\n"
     ]
    },
    {
     "name": "stdout",
     "output_type": "stream",
     "text": [
      "80:[0.717206132879046, 0.3598290598290598, 0.479225953329539, 0.6028242376115587]\n",
      "90:[0.7206132879045997, 0.36153846153846153, 0.48150256118383605, 0.5999690125686954]\n",
      "100:[0.7235494880546075, 0.3623931623931624, 0.48291571753986334, 0.6183213067777229]\n",
      "110:[0.726027397260274, 0.3623931623931624, 0.48346636259977194, 0.6416568105871027]\n",
      "120:[0.726027397260274, 0.3623931623931624, 0.48346636259977194, 0.5989958132156218]\n"
     ]
    }
   ],
   "source": [
    "from matplotlib.font_manager import FontProperties\n",
    "fp1 = FontProperties(family=\"DejaVu Sans\",size=20)\n",
    "fp2 = FontProperties(family=\"DejaVu Sans\",size=18)\n",
    "\n",
    "GLOB = {\n",
    "    'MAX_FIT_DIS':2,\n",
    "    'MAX_DIS':110,\n",
    "    'MAX_ANGLE':60,\n",
    "    'MIN_LEN' : 40,\n",
    "    'MIN_COVER_ANGLE' : 120,\n",
    "    'MIN_COVER_RHO1' : 0.4,\n",
    "    'MIN_COVER_RHO2' : 0.33,\n",
    "}\n",
    "\n",
    "res01 = []\n",
    "xs01 = list(range(80,130,10))\n",
    "for x in xs01:\n",
    "    GLOB['MAX_DIS'] = x\n",
    "    res = one_task(GLOB)\n",
    "    res01.append(res)\n",
    "    print(f'{x}:{res}')"
   ]
  },
  {
   "cell_type": "markdown",
   "metadata": {},
   "source": [
    "## 随MAX_ANGLE变化"
   ]
  },
  {
   "cell_type": "code",
   "execution_count": null,
   "metadata": {},
   "outputs": [
    {
     "name": "stdout",
     "output_type": "stream",
     "text": [
      "40:[0.7132867132867133, 0.3487179487179487, 0.4684270952927669, 0.5632547874643345]\n"
     ]
    },
    {
     "name": "stderr",
     "output_type": "stream",
     "text": [
      "/home/liucc/Workspace/02_Ellipse/02_algorithm/02_ellipse_detect/cc_ellipse_v2.py:555: RuntimeWarning: divide by zero encountered in double_scalars\n",
      "  MA = np.sqrt(FA1/(A+C+FA2)) #长轴\n",
      "/home/liucc/Workspace/02_Ellipse/02_algorithm/02_ellipse_detect/cc_ellipse_v2.py:555: RuntimeWarning: invalid value encountered in sqrt\n",
      "  MA = np.sqrt(FA1/(A+C+FA2)) #长轴\n"
     ]
    },
    {
     "name": "stdout",
     "output_type": "stream",
     "text": [
      "50:[0.7282051282051282, 0.3641025641025641, 0.4854700854700855, 0.6006443079071816]\n",
      "60:[0.726027397260274, 0.3623931623931624, 0.48346636259977194, 0.600905898845557]\n",
      "70:[0.7078464106844741, 0.3623931623931624, 0.4793668739400791, 0.6552718492469403]\n"
     ]
    }
   ],
   "source": [
    "from matplotlib.font_manager import FontProperties\n",
    "fp1 = FontProperties(family=\"DejaVu Sans\",size=20)\n",
    "fp2 = FontProperties(family=\"DejaVu Sans\",size=18)\n",
    "\n",
    "GLOB = {\n",
    "    'MAX_FIT_DIS':2,\n",
    "    'MAX_DIS':110,\n",
    "    'MAX_ANGLE':50,\n",
    "    'MIN_LEN' : 40,\n",
    "    'MIN_COVER_ANGLE' : 120,\n",
    "    'MIN_COVER_RHO1' : 0.4,\n",
    "    'MIN_COVER_RHO2' : 0.33,\n",
    "}\n",
    "res02 = []\n",
    "xs02 = list(range(40,90,10))\n",
    "for x in xs02:\n",
    "    GLOB['MAX_ANGLE'] = x\n",
    "    res = one_task(GLOB)\n",
    "    res02.append(res)\n",
    "    print(f'{x}:{res}')"
   ]
  },
  {
   "cell_type": "markdown",
   "metadata": {},
   "source": [
    "## 随MIN_LEN变化"
   ]
  },
  {
   "cell_type": "code",
   "execution_count": 23,
   "metadata": {},
   "outputs": [
    {
     "name": "stderr",
     "output_type": "stream",
     "text": [
      "/home/liucc/Workspace/02_Ellipse/02_algorithm/02_ellipse_detect/cc_ellipse_v2.py:555: RuntimeWarning: divide by zero encountered in double_scalars\n",
      "  MA = np.sqrt(FA1/(A+C+FA2)) #长轴\n",
      "/home/liucc/Workspace/02_Ellipse/02_algorithm/02_ellipse_detect/cc_ellipse_v2.py:555: RuntimeWarning: invalid value encountered in sqrt\n",
      "  MA = np.sqrt(FA1/(A+C+FA2)) #长轴\n"
     ]
    },
    {
     "name": "stdout",
     "output_type": "stream",
     "text": [
      "40:[0.7282051282051282, 0.3641025641025641, 0.4854700854700855, 0.5748334051382662]\n",
      "50:[0.7421602787456446, 0.3641025641025641, 0.48853211009174313, 0.5985291979529641]\n",
      "60:[0.7544802867383512, 0.3598290598290598, 0.4872685185185185, 0.5806128436868842]\n",
      "70:[0.779245283018868, 0.352991452991453, 0.4858823529411765, 0.4630034186623313]\n"
     ]
    }
   ],
   "source": [
    "from matplotlib.font_manager import FontProperties\n",
    "fp1 = FontProperties(family=\"DejaVu Sans\",size=20)\n",
    "fp2 = FontProperties(family=\"DejaVu Sans\",size=18)\n",
    "\n",
    "GLOB = {\n",
    "    'MAX_FIT_DIS':2,\n",
    "    'MAX_DIS':110,\n",
    "    'MAX_ANGLE':50,\n",
    "    'MIN_LEN' : 50,\n",
    "    'MIN_COVER_ANGLE' : 120,\n",
    "    'MIN_COVER_RHO1' : 0.4,\n",
    "    'MIN_COVER_RHO2' : 0.33,\n",
    "}\n",
    "\n",
    "\n",
    "res1 = []\n",
    "xs1 = list(range(40,80,10))\n",
    "for x in xs1:\n",
    "    GLOB['MIN_LEN'] = x\n",
    "    res = one_task(GLOB)\n",
    "    res1.append(res)\n",
    "    print(f'{x}:{res}')"
   ]
  },
  {
   "cell_type": "markdown",
   "metadata": {},
   "source": [
    "## 随MIN_COVER_ANGLE变化"
   ]
  },
  {
   "cell_type": "code",
   "execution_count": 24,
   "metadata": {},
   "outputs": [
    {
     "name": "stderr",
     "output_type": "stream",
     "text": [
      "/home/liucc/Workspace/02_Ellipse/02_algorithm/02_ellipse_detect/cc_ellipse_v2.py:555: RuntimeWarning: divide by zero encountered in double_scalars\n",
      "  MA = np.sqrt(FA1/(A+C+FA2)) #长轴\n",
      "/home/liucc/Workspace/02_Ellipse/02_algorithm/02_ellipse_detect/cc_ellipse_v2.py:555: RuntimeWarning: invalid value encountered in sqrt\n",
      "  MA = np.sqrt(FA1/(A+C+FA2)) #长轴\n"
     ]
    },
    {
     "name": "stdout",
     "output_type": "stream",
     "text": [
      "100:[0.7314974182444062, 0.36324786324786323, 0.4854368932038835, 0.5750556281118682]\n",
      "110:[0.7365684575389948, 0.36324786324786323, 0.4865483686319404, 0.6017270509642784]\n",
      "120:[0.7421602787456446, 0.3641025641025641, 0.48853211009174313, 0.6054651809461189]\n",
      "130:[0.7442273534635879, 0.3581196581196581, 0.4835545297172533, 0.5268654787179196]\n"
     ]
    }
   ],
   "source": [
    "GLOB = {\n",
    "    'MAX_FIT_DIS':2,\n",
    "    'MAX_DIS':110,\n",
    "    'MAX_ANGLE':50,\n",
    "    'MIN_LEN' : 50,\n",
    "    'MIN_COVER_ANGLE' : 120,\n",
    "    'MIN_COVER_RHO1' : 0.4,\n",
    "    'MIN_COVER_RHO2' : 0.33,\n",
    "}\n",
    "\n",
    "\n",
    "res2 = []\n",
    "xs2 = np.arange(100,140,10)\n",
    "for x in xs2:\n",
    "    GLOB['MIN_COVER_ANGLE'] = x\n",
    "    res = one_task(GLOB)\n",
    "    res2.append(res)\n",
    "    print(f'{x}:{res}')"
   ]
  },
  {
   "cell_type": "markdown",
   "metadata": {},
   "source": [
    "## 随MIN_COVER_RHO1变化"
   ]
  },
  {
   "cell_type": "code",
   "execution_count": 25,
   "metadata": {},
   "outputs": [
    {
     "name": "stderr",
     "output_type": "stream",
     "text": [
      "/home/liucc/Workspace/02_Ellipse/02_algorithm/02_ellipse_detect/cc_ellipse_v2.py:555: RuntimeWarning: divide by zero encountered in double_scalars\n",
      "  MA = np.sqrt(FA1/(A+C+FA2)) #长轴\n",
      "/home/liucc/Workspace/02_Ellipse/02_algorithm/02_ellipse_detect/cc_ellipse_v2.py:555: RuntimeWarning: invalid value encountered in sqrt\n",
      "  MA = np.sqrt(FA1/(A+C+FA2)) #长轴\n"
     ]
    },
    {
     "name": "stdout",
     "output_type": "stream",
     "text": [
      "0.2:[0.7408695652173913, 0.3641025641025641, 0.48825214899713465, 0.5734309812988898]\n",
      "0.25:[0.7408695652173913, 0.3641025641025641, 0.48825214899713465, 0.5790991458025846]\n",
      "0.3:[0.7408695652173913, 0.3641025641025641, 0.48825214899713465, 0.5662287810836175]\n",
      "0.35:[0.7408695652173913, 0.3641025641025641, 0.48825214899713465, 0.47119136049289895]\n",
      "0.39999999999999997:[0.7421602787456446, 0.3641025641025641, 0.48853211009174313, 0.5386072204570578]\n",
      "0.44999999999999996:[0.7473498233215548, 0.36153846153846153, 0.48732718894009214, 0.539556951233835]\n",
      "0.49999999999999994:[0.7564575645756457, 0.3504273504273504, 0.4789719626168225, 0.5568899903634582]\n",
      "0.5499999999999999:[0.7606177606177607, 0.3367521367521368, 0.466824644549763, 0.5837658342688975]\n"
     ]
    }
   ],
   "source": [
    "GLOB = {\n",
    "    'MAX_FIT_DIS':2,\n",
    "    'MAX_DIS':110,\n",
    "    'MAX_ANGLE':50,\n",
    "    'MIN_LEN' : 50,\n",
    "    'MIN_COVER_ANGLE' : 120,\n",
    "    'MIN_COVER_RHO1' : 0.4,\n",
    "    'MIN_COVER_RHO2' : 0.33,\n",
    "}\n",
    "\n",
    "\n",
    "res3 = []\n",
    "xs3 = np.arange(0.2,0.6,0.05)\n",
    "for x in xs3:\n",
    "    GLOB['MIN_COVER_RHO1'] = x\n",
    "    res = one_task(GLOB)\n",
    "    res3.append(res)\n",
    "    print(f'{x}:{res}')"
   ]
  },
  {
   "cell_type": "markdown",
   "metadata": {},
   "source": [
    "## 随MIN_COVER_RHO2变化"
   ]
  },
  {
   "cell_type": "code",
   "execution_count": 26,
   "metadata": {},
   "outputs": [
    {
     "name": "stderr",
     "output_type": "stream",
     "text": [
      "/home/liucc/Workspace/02_Ellipse/02_algorithm/02_ellipse_detect/cc_ellipse_v2.py:555: RuntimeWarning: divide by zero encountered in double_scalars\n",
      "  MA = np.sqrt(FA1/(A+C+FA2)) #长轴\n",
      "/home/liucc/Workspace/02_Ellipse/02_algorithm/02_ellipse_detect/cc_ellipse_v2.py:555: RuntimeWarning: invalid value encountered in sqrt\n",
      "  MA = np.sqrt(FA1/(A+C+FA2)) #长轴\n"
     ]
    },
    {
     "name": "stdout",
     "output_type": "stream",
     "text": [
      "0.2:[0.503919372900336, 0.38461538461538464, 0.43625787687833256, 0.5995694025598391]\n",
      "0.25:[0.6005434782608695, 0.37777777777777777, 0.4637985309548793, 0.5337950978616272]\n",
      "0.3:[0.6841269841269841, 0.3683760683760684, 0.4788888888888889, 0.48313419264976426]\n",
      "0.35:[0.7645951035781544, 0.347008547008547, 0.4773662551440328, 0.4688421307188092]\n",
      "0.39999999999999997:[0.8226164079822617, 0.3170940170940171, 0.45774213448488593, 0.4695673735454829]\n",
      "0.44999999999999996:[0.875, 0.25726495726495724, 0.39762219286657857, 0.46969818466841573]\n"
     ]
    }
   ],
   "source": [
    "GLOB = {\n",
    "    'MAX_FIT_DIS':2,\n",
    "    'MAX_DIS':110,\n",
    "    'MAX_ANGLE':50,\n",
    "    'MIN_LEN' : 50,\n",
    "    'MIN_COVER_ANGLE' : 120,\n",
    "    'MIN_COVER_RHO1' : 0.4,\n",
    "    'MIN_COVER_RHO2' : 0.3,\n",
    "}\n",
    "\n",
    "res4 = []\n",
    "xs4 = np.arange(0.2,0.5,0.05)\n",
    "for x in xs4:\n",
    "    GLOB['MIN_COVER_RHO2'] = x\n",
    "    res = one_task(GLOB)\n",
    "    res4.append(res)\n",
    "    print(f'{x}:{res}')"
   ]
  },
  {
   "cell_type": "code",
   "execution_count": null,
   "metadata": {},
   "outputs": [],
   "source": []
  }
 ],
 "metadata": {
  "kernelspec": {
   "display_name": "Python 3",
   "language": "python",
   "name": "python3"
  },
  "language_info": {
   "codemirror_mode": {
    "name": "ipython",
    "version": 3
   },
   "file_extension": ".py",
   "mimetype": "text/x-python",
   "name": "python",
   "nbconvert_exporter": "python",
   "pygments_lexer": "ipython3",
   "version": "3.6.5"
  },
  "toc": {
   "base_numbering": 1,
   "nav_menu": {},
   "number_sections": true,
   "sideBar": true,
   "skip_h1_title": false,
   "title_cell": "目录",
   "title_sidebar": "目录",
   "toc_cell": true,
   "toc_position": {
    "height": "calc(100% - 180px)",
    "left": "10px",
    "top": "150px",
    "width": "273px"
   },
   "toc_section_display": true,
   "toc_window_display": true
  }
 },
 "nbformat": 4,
 "nbformat_minor": 2
}
