{
 "cells": [
  {
   "cell_type": "markdown",
   "metadata": {
    "toc": true
   },
   "source": [
    "<h1>目录<span class=\"tocSkip\"></span></h1>\n",
    "<div class=\"toc\"><ul class=\"toc-item\"><li><span><a href=\"#加载数据和模型\" data-toc-modified-id=\"加载数据和模型-1\"><span class=\"toc-item-num\">1&nbsp;&nbsp;</span>加载数据和模型</a></span></li><li><span><a href=\"#精度，召回率，F和时间随参数的变化\" data-toc-modified-id=\"精度，召回率，F和时间随参数的变化-2\"><span class=\"toc-item-num\">2&nbsp;&nbsp;</span>精度，召回率，F和时间随参数的变化</a></span><ul class=\"toc-item\"><li><span><a href=\"#随MIN_LEN变化\" data-toc-modified-id=\"随MIN_LEN变化-2.1\"><span class=\"toc-item-num\">2.1&nbsp;&nbsp;</span>随MIN_LEN变化</a></span></li><li><span><a href=\"#随MIN_COVER_ANGLE变化\" data-toc-modified-id=\"随MIN_COVER_ANGLE变化-2.2\"><span class=\"toc-item-num\">2.2&nbsp;&nbsp;</span>随MIN_COVER_ANGLE变化</a></span></li><li><span><a href=\"#随MIN_COVER_RHO1变化\" data-toc-modified-id=\"随MIN_COVER_RHO1变化-2.3\"><span class=\"toc-item-num\">2.3&nbsp;&nbsp;</span>随MIN_COVER_RHO1变化</a></span></li><li><span><a href=\"#随MIN_COVER_RHO2变化\" data-toc-modified-id=\"随MIN_COVER_RHO2变化-2.4\"><span class=\"toc-item-num\">2.4&nbsp;&nbsp;</span>随MIN_COVER_RHO2变化</a></span></li></ul></li></ul></div>"
   ]
  },
  {
   "cell_type": "code",
   "execution_count": 1,
   "metadata": {},
   "outputs": [],
   "source": [
    "%matplotlib inline\n",
    "dataset = '02_prasad'\n",
    "raw_path = f'/home/liucc/Workspace/02_Ellipse/03_results/{dataset}/01_raw/'\n",
    "label_path = f'/home/liucc/Workspace/02_Ellipse/03_results/{dataset}/04_ellipse_label/'"
   ]
  },
  {
   "cell_type": "code",
   "execution_count": 2,
   "metadata": {},
   "outputs": [
    {
     "name": "stdout",
     "output_type": "stream",
     "text": [
      "['001', '002', '003', '004', '005', '006', '007', '008', '009', '010']\n"
     ]
    }
   ],
   "source": [
    "import os \n",
    "fnames = os.listdir(raw_path)\n",
    "fnames = [n[:-4] for n in fnames if n[-3:]=='jpg']\n",
    "fnames.sort()\n",
    "print(fnames[:10])"
   ]
  },
  {
   "cell_type": "markdown",
   "metadata": {},
   "source": [
    "# 加载数据和模型"
   ]
  },
  {
   "cell_type": "code",
   "execution_count": 3,
   "metadata": {},
   "outputs": [
    {
     "name": "stderr",
     "output_type": "stream",
     "text": [
      "/home/liucc/anaconda3/lib/python3.6/site-packages/skimage/util/dtype.py:122: UserWarning: Possible precision loss when converting from float64 to uint8\n",
      "  .format(dtypeobj_in, dtypeobj_out))\n",
      "/home/liucc/anaconda3/lib/python3.6/site-packages/PIL/TiffImagePlugin.py:756: UserWarning: Corrupt EXIF data.  Expecting to read 12 bytes but only got 6. \n",
      "  warnings.warn(str(msg))\n"
     ]
    },
    {
     "name": "stdout",
     "output_type": "stream",
     "text": [
      "198\n"
     ]
    }
   ],
   "source": [
    "import sys\n",
    "sys.path.append('/home/liucc/Workspace/02_Ellipse/01_data')\n",
    "from cc_process_image import *\n",
    "import imageio\n",
    "\n",
    "raws = get_all_images(f'{raw_path}',fnames,'jpg')\n",
    "\n",
    "print(len(raws))"
   ]
  },
  {
   "cell_type": "code",
   "execution_count": 4,
   "metadata": {},
   "outputs": [
    {
     "name": "stdout",
     "output_type": "stream",
     "text": [
      "198\n"
     ]
    }
   ],
   "source": [
    "gts = []\n",
    "\n",
    "for name in fnames:\n",
    "    lname = label_path+name+'.txt'\n",
    "    \n",
    "    with open(lname,'r') as f:\n",
    "        txt = f.read()\n",
    "        \n",
    "        ells_t = [[float(v) for v in l.split(' ')] for l in txt.split('\\n')]\n",
    "        \n",
    "        gts.append(ells_t)\n",
    "        \n",
    "\n",
    "print(len(gts))"
   ]
  },
  {
   "cell_type": "code",
   "execution_count": 5,
   "metadata": {},
   "outputs": [],
   "source": [
    "sys.path.append('/home/liucc/Workspace/02_Ellipse/02_algorithm/01_cnn')\n",
    "from cnn_model import *\n",
    "\n",
    "model_path = r'/home/liucc/Workspace/02_Ellipse/06_model/'\n",
    "model_name = r'ellipse_BSDS'\n",
    "\n",
    "device = torch.device('cuda:0' if torch.cuda.is_available() else 'cpu')\n",
    "#device = torch.device('cpu')\n",
    "model = RestoreNet().to(device)\n",
    "\n",
    "model.load_state_dict(torch.load(f'{model_path}{model_name}.mdl')['state_dict'])"
   ]
  },
  {
   "cell_type": "markdown",
   "metadata": {},
   "source": [
    "# 精度，召回率，F和时间随参数的变化"
   ]
  },
  {
   "cell_type": "code",
   "execution_count": 6,
   "metadata": {},
   "outputs": [],
   "source": [
    "import sys\n",
    "sys.path.append('/home/liucc/Workspace/02_Ellipse/02_algorithm/02_ellipse_detect')\n",
    "from cc_ellipse import *\n",
    "sys.path.append('../')\n",
    "from experiment import *"
   ]
  },
  {
   "cell_type": "code",
   "execution_count": 7,
   "metadata": {},
   "outputs": [],
   "source": [
    "import time\n",
    "\n",
    "def one_task(glob):\n",
    "    start = time.time()\n",
    "\n",
    "    prs = []\n",
    "    \n",
    "    for im in raws:\n",
    "        im = preprocess_image(im)\n",
    "        imo = predict(model,im, device)\n",
    "        imo = postprocess_image(imo,thr=0.1)\n",
    "        ells = detect_ellipses_im(imo,glob)\n",
    "        \n",
    "        prs.append(ells)\n",
    "\n",
    "    end = time.time()\n",
    "    \n",
    "    costT = (end-start)/len(raws)\n",
    "    \n",
    "    precision,recall,F1,_,_ = cal_metrics(prs,gts,threshold=0.8)\n",
    "    \n",
    "    \n",
    "    return [precision,recall,F1,costT]"
   ]
  },
  {
   "cell_type": "code",
   "execution_count": 8,
   "metadata": {},
   "outputs": [],
   "source": [
    "#全局参数\n",
    "GLOB = {\n",
    "    'MIN_LEN' : 60,\n",
    "    'MIN_COVER_ANGLE' : 80,\n",
    "    'MIN_COVER_RHO1' : 0.5,\n",
    "    'MIN_COVER_RHO2' : 0.2,\n",
    "}\n",
    "precision,recall,F1,costT = one_task(GLOB)"
   ]
  },
  {
   "cell_type": "code",
   "execution_count": 9,
   "metadata": {},
   "outputs": [
    {
     "name": "stdout",
     "output_type": "stream",
     "text": [
      "Precision:0.0000\n",
      "Recall:   0.0000\n",
      "F1 Score: 0.0000\n",
      "Avg Time: 38\n"
     ]
    }
   ],
   "source": [
    "print('Precision:%.4f' % precision)\n",
    "print('Recall:   %.4f' % recall)\n",
    "print('F1 Score: %.4f' % F1)\n",
    "print('Avg Time: %.0f' % (costT*1000))"
   ]
  },
  {
   "cell_type": "markdown",
   "metadata": {},
   "source": [
    "## 随MIN_LEN变化"
   ]
  },
  {
   "cell_type": "code",
   "execution_count": 8,
   "metadata": {},
   "outputs": [
    {
     "name": "stdout",
     "output_type": "stream",
     "text": [
      "50:[0.40932642487046633, 0.33760683760683763, 0.37002341920374715, 0.09443637698587745]\n",
      "60:[0.4549819927971189, 0.32393162393162395, 0.3784323514727908, 0.08982829373292249]\n",
      "70:[0.4897680763983629, 0.30683760683760686, 0.3772990015764582, 0.08629878000779585]\n",
      "80:[0.5301587301587302, 0.28547008547008546, 0.3711111111111111, 0.0835897850267815]\n",
      "90:[0.551660516605166, 0.25555555555555554, 0.3492990654205607, 0.08110350671440664]\n"
     ]
    }
   ],
   "source": [
    "from matplotlib.font_manager import FontProperties\n",
    "fp1 = FontProperties(family=\"DejaVu Sans\",size=20)\n",
    "fp2 = FontProperties(family=\"DejaVu Sans\",size=18)\n",
    "\n",
    "GLOB = {\n",
    "    'MIN_LEN' : 0,\n",
    "    'MIN_COVER_ANGLE' : 0,\n",
    "    'MIN_COVER_RHO1' : 0,\n",
    "    'MIN_COVER_RHO2' : 0,\n",
    "}\n",
    "\n",
    "res1 = []\n",
    "xs1 = list(range(50,100,10))\n",
    "for x in xs1:\n",
    "    GLOB['MIN_LEN'] = x\n",
    "    res = one_task(GLOB)\n",
    "    res1.append(res)\n",
    "    print(f'{x}:{res}')"
   ]
  },
  {
   "cell_type": "markdown",
   "metadata": {},
   "source": [
    "## 随MIN_COVER_ANGLE变化"
   ]
  },
  {
   "cell_type": "code",
   "execution_count": 14,
   "metadata": {},
   "outputs": [
    {
     "name": "stdout",
     "output_type": "stream",
     "text": [
      "60:[0.4940867279894875, 0.3213675213675214, 0.3894355256343863, 0.13989299595958055]\n",
      "80:[0.54, 0.3230769230769231, 0.4042780748663102, 0.13969606462151113]\n",
      "100:[0.5796178343949044, 0.3111111111111111, 0.40489432703003336, 0.13948527369836364]\n"
     ]
    }
   ],
   "source": [
    "GLOB = {\n",
    "    'MIN_LEN' : 60,\n",
    "    'MIN_COVER_ANGLE' : 0,\n",
    "    'MIN_COVER_RHO1' : 0,\n",
    "    'MIN_COVER_RHO2' : 0,\n",
    "}\n",
    "\n",
    "res2 = []\n",
    "xs2 = np.arange(60,120,20)\n",
    "for x in xs2:\n",
    "    GLOB['MIN_COVER_ANGLE'] = x\n",
    "    res = one_task(GLOB)\n",
    "    res2.append(res)\n",
    "    print(f'{x}:{res}')"
   ]
  },
  {
   "cell_type": "markdown",
   "metadata": {},
   "source": [
    "## 随MIN_COVER_RHO1变化"
   ]
  },
  {
   "cell_type": "code",
   "execution_count": 15,
   "metadata": {},
   "outputs": [
    {
     "name": "stdout",
     "output_type": "stream",
     "text": [
      "0.2:[0.5856697819314641, 0.3213675213675214, 0.41501103752759383, 0.13351620808996337]\n",
      "0.30000000000000004:[0.6028938906752411, 0.32051282051282054, 0.4185267857142857, 0.14057378215019148]\n",
      "0.4000000000000001:[0.6214405360134003, 0.3170940170940171, 0.4199207696661007, 0.14017871172741206]\n",
      "0.5000000000000001:[0.6496478873239436, 0.3153846153846154, 0.42462600690448793, 0.1331405723937834]\n",
      "0.6000000000000001:[0.6648250460405156, 0.30854700854700856, 0.4214827787507297, 0.11371801357076626]\n"
     ]
    }
   ],
   "source": [
    "GLOB = {\n",
    "    'MIN_LEN' : 60,\n",
    "    'MIN_COVER_ANGLE' : 80,\n",
    "    'MIN_COVER_RHO1' : 0.0,\n",
    "    'MIN_COVER_RHO2' : 0.0,\n",
    "}\n",
    "\n",
    "res3 = []\n",
    "xs3 = np.arange(0.2,0.7,0.1)\n",
    "for x in xs3:\n",
    "    GLOB['MIN_COVER_RHO1'] = x\n",
    "    res = one_task(GLOB)\n",
    "    res3.append(res)\n",
    "    print(f'{x}:{res}')"
   ]
  },
  {
   "cell_type": "markdown",
   "metadata": {},
   "source": [
    "## 随MIN_COVER_RHO2变化"
   ]
  },
  {
   "cell_type": "code",
   "execution_count": 17,
   "metadata": {},
   "outputs": [
    {
     "name": "stdout",
     "output_type": "stream",
     "text": [
      "0.0:[0.6496478873239436, 0.3153846153846154, 0.42462600690448793, 0.09250687830375903]\n",
      "0.1:[0.6496478873239436, 0.3153846153846154, 0.42462600690448793, 0.09213982808469522]\n",
      "0.2:[0.6654545454545454, 0.3128205128205128, 0.4255813953488372, 0.0885538561175568]\n",
      "0.30000000000000004:[0.7293868921775899, 0.2948717948717949, 0.4199634814363968, 0.08970711327562428]\n",
      "0.4:[0.8431372549019608, 0.25726495726495724, 0.39423706614276355, 0.09172440658916127]\n",
      "0.5:[0.8932384341637011, 0.21452991452991452, 0.34596829772570636, 0.08906477990776601]\n"
     ]
    }
   ],
   "source": [
    "GLOB = {\n",
    "    'MIN_LEN' : 60,\n",
    "    'MIN_COVER_ANGLE' : 80,\n",
    "    'MIN_COVER_RHO1' : 0.5,\n",
    "    'MIN_COVER_RHO2' : 0.0,\n",
    "}\n",
    "\n",
    "res4 = []\n",
    "xs4 = np.arange(0,0.6,0.1)\n",
    "for x in xs4:\n",
    "    GLOB['MIN_COVER_RHO2'] = x\n",
    "    res = one_task(GLOB)\n",
    "    res4.append(res)\n",
    "    print(f'{x}:{res}')"
   ]
  },
  {
   "cell_type": "code",
   "execution_count": null,
   "metadata": {},
   "outputs": [],
   "source": []
  }
 ],
 "metadata": {
  "kernelspec": {
   "display_name": "Python 3",
   "language": "python",
   "name": "python3"
  },
  "language_info": {
   "codemirror_mode": {
    "name": "ipython",
    "version": 3
   },
   "file_extension": ".py",
   "mimetype": "text/x-python",
   "name": "python",
   "nbconvert_exporter": "python",
   "pygments_lexer": "ipython3",
   "version": "3.6.5"
  },
  "toc": {
   "base_numbering": 1,
   "nav_menu": {},
   "number_sections": true,
   "sideBar": true,
   "skip_h1_title": false,
   "title_cell": "目录",
   "title_sidebar": "目录",
   "toc_cell": true,
   "toc_position": {
    "height": "calc(100% - 180px)",
    "left": "10px",
    "top": "150px",
    "width": "273px"
   },
   "toc_section_display": true,
   "toc_window_display": true
  }
 },
 "nbformat": 4,
 "nbformat_minor": 2
}
