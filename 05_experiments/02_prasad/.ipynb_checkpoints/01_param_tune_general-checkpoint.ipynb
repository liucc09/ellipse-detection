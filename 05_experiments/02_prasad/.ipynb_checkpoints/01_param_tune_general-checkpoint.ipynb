{
 "cells": [
  {
   "cell_type": "markdown",
   "metadata": {
    "toc": true
   },
   "source": [
    "<h1>目录<span class=\"tocSkip\"></span></h1>\n",
    "<div class=\"toc\"><ul class=\"toc-item\"><li><span><a href=\"#预处理\" data-toc-modified-id=\"预处理-1\"><span class=\"toc-item-num\">1&nbsp;&nbsp;</span>预处理</a></span></li><li><span><a href=\"#加载数据和模型\" data-toc-modified-id=\"加载数据和模型-2\"><span class=\"toc-item-num\">2&nbsp;&nbsp;</span>加载数据和模型</a></span></li><li><span><a href=\"#精度，召回率，F和时间随参数的变化\" data-toc-modified-id=\"精度，召回率，F和时间随参数的变化-3\"><span class=\"toc-item-num\">3&nbsp;&nbsp;</span>精度，召回率，F和时间随参数的变化</a></span><ul class=\"toc-item\"><li><span><a href=\"#随MAX_DIS变化\" data-toc-modified-id=\"随MAX_DIS变化-3.1\"><span class=\"toc-item-num\">3.1&nbsp;&nbsp;</span>随MAX_DIS变化</a></span></li><li><span><a href=\"#随MAX_ANGLE变化\" data-toc-modified-id=\"随MAX_ANGLE变化-3.2\"><span class=\"toc-item-num\">3.2&nbsp;&nbsp;</span>随MAX_ANGLE变化</a></span></li><li><span><a href=\"#随MIN_LEN变化\" data-toc-modified-id=\"随MIN_LEN变化-3.3\"><span class=\"toc-item-num\">3.3&nbsp;&nbsp;</span>随MIN_LEN变化</a></span></li><li><span><a href=\"#随MIN_COVER_ANGLE变化\" data-toc-modified-id=\"随MIN_COVER_ANGLE变化-3.4\"><span class=\"toc-item-num\">3.4&nbsp;&nbsp;</span>随MIN_COVER_ANGLE变化</a></span></li><li><span><a href=\"#随MIN_COVER_RHO1变化\" data-toc-modified-id=\"随MIN_COVER_RHO1变化-3.5\"><span class=\"toc-item-num\">3.5&nbsp;&nbsp;</span>随MIN_COVER_RHO1变化</a></span></li><li><span><a href=\"#随MIN_COVER_RHO2变化\" data-toc-modified-id=\"随MIN_COVER_RHO2变化-3.6\"><span class=\"toc-item-num\">3.6&nbsp;&nbsp;</span>随MIN_COVER_RHO2变化</a></span></li></ul></li></ul></div>"
   ]
  },
  {
   "cell_type": "markdown",
   "metadata": {},
   "source": [
    "# 预处理"
   ]
  },
  {
   "cell_type": "code",
   "execution_count": 1,
   "metadata": {},
   "outputs": [],
   "source": [
    "%matplotlib inline\n",
    "dataset = '02_prasad'\n",
    "raw_path = f'/home/liucc/Workspace/02_Ellipse/03_results/{dataset}/01_raw/'\n",
    "label_path = f'/home/liucc/Workspace/02_Ellipse/03_results/{dataset}/04_ellipse_label/'"
   ]
  },
  {
   "cell_type": "code",
   "execution_count": 2,
   "metadata": {},
   "outputs": [
    {
     "name": "stdout",
     "output_type": "stream",
     "text": [
      "['001', '002', '003', '004', '005', '006', '007', '008', '009', '010']\n"
     ]
    }
   ],
   "source": [
    "import os \n",
    "fnames = os.listdir(raw_path)\n",
    "fnames = [n[:-4] for n in fnames if n[-3:]=='jpg']\n",
    "fnames.sort()\n",
    "print(fnames[:10])"
   ]
  },
  {
   "cell_type": "markdown",
   "metadata": {},
   "source": [
    "# 加载数据和模型"
   ]
  },
  {
   "cell_type": "code",
   "execution_count": 3,
   "metadata": {},
   "outputs": [
    {
     "name": "stderr",
     "output_type": "stream",
     "text": [
      "/home/liucc/anaconda3/lib/python3.6/site-packages/skimage/util/dtype.py:122: UserWarning: Possible precision loss when converting from float64 to uint8\n",
      "  .format(dtypeobj_in, dtypeobj_out))\n",
      "/home/liucc/anaconda3/lib/python3.6/site-packages/PIL/TiffImagePlugin.py:756: UserWarning: Corrupt EXIF data.  Expecting to read 12 bytes but only got 6. \n",
      "  warnings.warn(str(msg))\n"
     ]
    },
    {
     "name": "stdout",
     "output_type": "stream",
     "text": [
      "198\n"
     ]
    }
   ],
   "source": [
    "import sys\n",
    "sys.path.append('/home/liucc/Workspace/02_Ellipse/01_data')\n",
    "from cc_process_image import *\n",
    "import imageio\n",
    "\n",
    "raws = get_all_images(f'{raw_path}',fnames,'jpg',itype='gray')\n",
    "\n",
    "print(len(raws))"
   ]
  },
  {
   "cell_type": "code",
   "execution_count": 4,
   "metadata": {},
   "outputs": [
    {
     "name": "stdout",
     "output_type": "stream",
     "text": [
      "198\n"
     ]
    }
   ],
   "source": [
    "gts = []\n",
    "\n",
    "for name in fnames:\n",
    "    lname = label_path+name+'.txt'\n",
    "    \n",
    "    with open(lname,'r') as f:\n",
    "        txt = f.read()\n",
    "        \n",
    "        ells_t = [[float(v) for v in l.split(' ')] for l in txt.split('\\n')]\n",
    "        \n",
    "        gts.append(ells_t)\n",
    "        \n",
    "\n",
    "print(len(gts))"
   ]
  },
  {
   "cell_type": "code",
   "execution_count": 5,
   "metadata": {},
   "outputs": [],
   "source": [
    "sys.path.append('/home/liucc/Workspace/02_Ellipse/02_algorithm/01_cnn')\n",
    "from cnn_model import *\n",
    "\n",
    "model_path = r'/home/liucc/Workspace/02_Ellipse/06_model/'\n",
    "model_name = r'ellipse_general'\n",
    "\n",
    "device = torch.device('cuda:0' if torch.cuda.is_available() else 'cpu')\n",
    "#device = torch.device('cpu')\n",
    "model = RestoreNet(channel=1).to(device)\n",
    "\n",
    "model.load_state_dict(torch.load(f'{model_path}{model_name}.mdl')['state_dict'])"
   ]
  },
  {
   "cell_type": "markdown",
   "metadata": {},
   "source": [
    "# 精度，召回率，F和时间随参数的变化"
   ]
  },
  {
   "cell_type": "code",
   "execution_count": 6,
   "metadata": {},
   "outputs": [],
   "source": [
    "import sys\n",
    "sys.path.append('/home/liucc/Workspace/02_Ellipse/02_algorithm/02_ellipse_detect')\n",
    "from cc_ellipse_v2 import *\n",
    "sys.path.append('../')\n",
    "from experiment import *"
   ]
  },
  {
   "cell_type": "code",
   "execution_count": 7,
   "metadata": {},
   "outputs": [],
   "source": [
    "import time\n",
    "\n",
    "def one_task(glob):\n",
    "    start = time.time()\n",
    "\n",
    "    prs = []\n",
    "    \n",
    "    for im in raws:\n",
    "        im = preprocess_image(im)\n",
    "        imo = predict(model,im, device)\n",
    "        imo = postprocess_image(imo,thr=0.3)\n",
    "        ells = detect_ellipses_im(imo,glob)\n",
    "        \n",
    "        prs.append(ells)\n",
    "\n",
    "    end = time.time()\n",
    "    \n",
    "    costT = (end-start)/len(raws)\n",
    "    \n",
    "    precision,recall,F1,_,_ = cal_metrics(prs,gts,threshold=0.8)\n",
    "    \n",
    "    \n",
    "    return [precision,recall,F1,costT]"
   ]
  },
  {
   "cell_type": "code",
   "execution_count": 19,
   "metadata": {},
   "outputs": [],
   "source": [
    "#全局参数\n",
    "GLOB = {\n",
    "    'MAX_FIT_DIS':2,\n",
    "    'MAX_DIS':130,\n",
    "    'MAX_ANGLE':50,\n",
    "    'MIN_LEN' : 40,\n",
    "    'MIN_COVER_ANGLE' : 110,\n",
    "    'MIN_COVER_RHO1' : 0.4,\n",
    "    'MIN_COVER_RHO2' : 0.34,\n",
    "}\n",
    "\n",
    "precision,recall,F1,costT = one_task(GLOB)"
   ]
  },
  {
   "cell_type": "code",
   "execution_count": 20,
   "metadata": {},
   "outputs": [
    {
     "name": "stdout",
     "output_type": "stream",
     "text": [
      "Precision:0.7760\n",
      "Recall:   0.3761\n",
      "F1 Score: 0.5066\n",
      "Avg Time: 219\n"
     ]
    }
   ],
   "source": [
    "print('Precision:%.4f' % precision)\n",
    "print('Recall:   %.4f' % recall)\n",
    "print('F1 Score: %.4f' % F1)\n",
    "print('Avg Time: %.0f' % (costT*1000))"
   ]
  },
  {
   "cell_type": "markdown",
   "metadata": {},
   "source": [
    "## 随MAX_DIS变化"
   ]
  },
  {
   "cell_type": "code",
   "execution_count": 11,
   "metadata": {},
   "outputs": [
    {
     "name": "stdout",
     "output_type": "stream",
     "text": [
      "120:[0.7487179487179487, 0.37435897435897436, 0.49914529914529915, 0.2219492979723998]\n",
      "130:[0.7508532423208191, 0.37606837606837606, 0.501138952164009, 0.2233464645616936]\n",
      "140:[0.7491467576791809, 0.3752136752136752, 0.5000000000000001, 0.22529524745363178]\n",
      "150:[0.7474402730375427, 0.37435897435897436, 0.4988610478359909, 0.22575411290833444]\n",
      "160:[0.7474402730375427, 0.37435897435897436, 0.4988610478359909, 0.22774815077733512]\n",
      "170:[0.7474402730375427, 0.37435897435897436, 0.4988610478359909, 0.22753797396264894]\n"
     ]
    }
   ],
   "source": [
    "from matplotlib.font_manager import FontProperties\n",
    "fp1 = FontProperties(family=\"DejaVu Sans\",size=20)\n",
    "fp2 = FontProperties(family=\"DejaVu Sans\",size=18)\n",
    "\n",
    "GLOB = {\n",
    "    'MAX_FIT_DIS':2,\n",
    "    'MAX_DIS':130,\n",
    "    'MAX_ANGLE':60,\n",
    "    'MIN_LEN' : 40,\n",
    "    'MIN_COVER_ANGLE' : 120,\n",
    "    'MIN_COVER_RHO1' : 0.4,\n",
    "    'MIN_COVER_RHO2' : 0.33,\n",
    "}\n",
    "\n",
    "res01 = []\n",
    "xs01 = list(range(120,180,10))\n",
    "for x in xs01:\n",
    "    GLOB['MAX_DIS'] = x\n",
    "    res = one_task(GLOB)\n",
    "    res01.append(res)\n",
    "    print(f'{x}:{res}')"
   ]
  },
  {
   "cell_type": "markdown",
   "metadata": {},
   "source": [
    "## 随MAX_ANGLE变化"
   ]
  },
  {
   "cell_type": "code",
   "execution_count": 12,
   "metadata": {},
   "outputs": [
    {
     "name": "stdout",
     "output_type": "stream",
     "text": [
      "40:[0.7673179396092362, 0.36923076923076925, 0.4985574148874784, 0.21052364267484105]\n",
      "50:[0.7555938037865749, 0.3752136752136752, 0.5014277555682468, 0.2176843508325442]\n",
      "60:[0.7508532423208191, 0.37606837606837606, 0.501138952164009, 0.22338659474343964]\n",
      "70:[0.7411764705882353, 0.3769230769230769, 0.49971671388101985, 0.2687661683920658]\n",
      "80:[0.7407407407407407, 0.37606837606837606, 0.4988662131519274, 0.26266434216740153]\n"
     ]
    }
   ],
   "source": [
    "from matplotlib.font_manager import FontProperties\n",
    "fp1 = FontProperties(family=\"DejaVu Sans\",size=20)\n",
    "fp2 = FontProperties(family=\"DejaVu Sans\",size=18)\n",
    "\n",
    "GLOB = {\n",
    "    'MAX_FIT_DIS':2,\n",
    "    'MAX_DIS':130,\n",
    "    'MAX_ANGLE':50,\n",
    "    'MIN_LEN' : 40,\n",
    "    'MIN_COVER_ANGLE' : 120,\n",
    "    'MIN_COVER_RHO1' : 0.4,\n",
    "    'MIN_COVER_RHO2' : 0.33,\n",
    "}\n",
    "res02 = []\n",
    "xs02 = list(range(40,90,10))\n",
    "for x in xs02:\n",
    "    GLOB['MAX_ANGLE'] = x\n",
    "    res = one_task(GLOB)\n",
    "    res02.append(res)\n",
    "    print(f'{x}:{res}')"
   ]
  },
  {
   "cell_type": "markdown",
   "metadata": {},
   "source": [
    "## 随MIN_LEN变化"
   ]
  },
  {
   "cell_type": "code",
   "execution_count": 13,
   "metadata": {},
   "outputs": [
    {
     "name": "stdout",
     "output_type": "stream",
     "text": [
      "20:[0.7517123287671232, 0.3752136752136752, 0.500570125427594, 0.21906982046185117]\n",
      "30:[0.7530017152658662, 0.3752136752136752, 0.5008556759840274, 0.2710787503406255]\n",
      "40:[0.7555938037865749, 0.3752136752136752, 0.5014277555682468, 0.2902991868028737]\n",
      "50:[0.7578397212543554, 0.3717948717948718, 0.49885321100917424, 0.29036812107972426]\n"
     ]
    }
   ],
   "source": [
    "from matplotlib.font_manager import FontProperties\n",
    "fp1 = FontProperties(family=\"DejaVu Sans\",size=20)\n",
    "fp2 = FontProperties(family=\"DejaVu Sans\",size=18)\n",
    "\n",
    "GLOB = {\n",
    "    'MAX_FIT_DIS':2,\n",
    "    'MAX_DIS':130,\n",
    "    'MAX_ANGLE':50,\n",
    "    'MIN_LEN' : 40,\n",
    "    'MIN_COVER_ANGLE' : 120,\n",
    "    'MIN_COVER_RHO1' : 0.4,\n",
    "    'MIN_COVER_RHO2' : 0.33,\n",
    "}\n",
    "\n",
    "\n",
    "res1 = []\n",
    "xs1 = list(range(20,60,10))\n",
    "for x in xs1:\n",
    "    GLOB['MIN_LEN'] = x\n",
    "    res = one_task(GLOB)\n",
    "    res1.append(res)\n",
    "    print(f'{x}:{res}')"
   ]
  },
  {
   "cell_type": "markdown",
   "metadata": {},
   "source": [
    "## 随MIN_COVER_ANGLE变化"
   ]
  },
  {
   "cell_type": "code",
   "execution_count": 14,
   "metadata": {},
   "outputs": [
    {
     "name": "stdout",
     "output_type": "stream",
     "text": [
      "100:[0.7487352445193929, 0.37948717948717947, 0.5036868973340897, 0.2291240439270482]\n",
      "110:[0.7525597269624573, 0.3769230769230769, 0.5022779043280182, 0.27915069912419177]\n",
      "120:[0.7555938037865749, 0.3752136752136752, 0.5014277555682468, 0.27889452197334985]\n",
      "130:[0.755632582322357, 0.37264957264957266, 0.49914138523182605, 0.25636455386576024]\n",
      "140:[0.7578947368421053, 0.36923076923076925, 0.496551724137931, 0.28771648864553434]\n",
      "150:[0.7653429602888087, 0.3623931623931624, 0.4918793503480278, 0.2364805033712676]\n"
     ]
    }
   ],
   "source": [
    "GLOB = {\n",
    "    'MAX_FIT_DIS':2,\n",
    "    'MAX_DIS':130,\n",
    "    'MAX_ANGLE':50,\n",
    "    'MIN_LEN' : 40,\n",
    "    'MIN_COVER_ANGLE' : 110,\n",
    "    'MIN_COVER_RHO1' : 0.4,\n",
    "    'MIN_COVER_RHO2' : 0.33,\n",
    "}\n",
    "\n",
    "\n",
    "res2 = []\n",
    "xs2 = np.arange(100,160,10)\n",
    "for x in xs2:\n",
    "    GLOB['MIN_COVER_ANGLE'] = x\n",
    "    res = one_task(GLOB)\n",
    "    res2.append(res)\n",
    "    print(f'{x}:{res}')"
   ]
  },
  {
   "cell_type": "markdown",
   "metadata": {},
   "source": [
    "## 随MIN_COVER_RHO1变化"
   ]
  },
  {
   "cell_type": "code",
   "execution_count": 15,
   "metadata": {},
   "outputs": [
    {
     "name": "stdout",
     "output_type": "stream",
     "text": [
      "0.2:[0.747457627118644, 0.3769230769230769, 0.5011363636363636, 0.2837683516319352]\n",
      "0.25:[0.747457627118644, 0.3769230769230769, 0.5011363636363636, 0.28096698751353255]\n",
      "0.3:[0.747457627118644, 0.3769230769230769, 0.5011363636363636, 0.29037329765281295]\n",
      "0.35:[0.747457627118644, 0.3769230769230769, 0.5011363636363636, 0.29887715373376406]\n",
      "0.39999999999999997:[0.7525597269624573, 0.3769230769230769, 0.5022779043280182, 0.2816674131335634]\n",
      "0.44999999999999996:[0.7582608695652174, 0.37264957264957266, 0.4997134670487106, 0.2833776112758752]\n",
      "0.49999999999999994:[0.7615658362989324, 0.3658119658119658, 0.4942263279445727, 0.29106206725342104]\n",
      "0.5499999999999999:[0.7665441176470589, 0.3564102564102564, 0.4865810968494749, 0.23013819347728381]\n"
     ]
    }
   ],
   "source": [
    "GLOB = {\n",
    "    'MAX_FIT_DIS':2,\n",
    "    'MAX_DIS':130,\n",
    "    'MAX_ANGLE':50,\n",
    "    'MIN_LEN' : 40,\n",
    "    'MIN_COVER_ANGLE' : 110,\n",
    "    'MIN_COVER_RHO1' : 0.4,\n",
    "    'MIN_COVER_RHO2' : 0.33,\n",
    "}\n",
    "\n",
    "res3 = []\n",
    "xs3 = np.arange(0.2,0.6,0.05)\n",
    "for x in xs3:\n",
    "    GLOB['MIN_COVER_RHO1'] = x\n",
    "    res = one_task(GLOB)\n",
    "    res3.append(res)\n",
    "    print(f'{x}:{res}')"
   ]
  },
  {
   "cell_type": "markdown",
   "metadata": {},
   "source": [
    "## 随MIN_COVER_RHO2变化"
   ]
  },
  {
   "cell_type": "code",
   "execution_count": 16,
   "metadata": {},
   "outputs": [
    {
     "name": "stdout",
     "output_type": "stream",
     "text": [
      "0.3:[0.6998468606431854, 0.3905982905982906, 0.501371365880417, 0.2196472232991999]\n",
      "0.31:[0.7231012658227848, 0.3905982905982906, 0.5072142064372919, 0.28298607619121824]\n",
      "0.32:[0.7413509060955519, 0.38461538461538464, 0.5064715813168262, 0.2882605622513126]\n",
      "0.33:[0.7525597269624573, 0.3769230769230769, 0.5022779043280182, 0.2671133653082029]\n",
      "0.34:[0.7760141093474426, 0.37606837606837606, 0.5066206102475532, 0.2692674699455801]\n",
      "0.35000000000000003:[0.7871559633027523, 0.36666666666666664, 0.5002915451895044, 0.2956069358671554]\n"
     ]
    }
   ],
   "source": [
    "GLOB = {\n",
    "    'MAX_FIT_DIS':2,\n",
    "    'MAX_DIS':130,\n",
    "    'MAX_ANGLE':50,\n",
    "    'MIN_LEN' : 40,\n",
    "    'MIN_COVER_ANGLE' : 110,\n",
    "    'MIN_COVER_RHO1' : 0.4,\n",
    "    'MIN_COVER_RHO2' : 0.34,\n",
    "}\n",
    "\n",
    "res4 = []\n",
    "xs4 = np.arange(0.3,0.36,0.01)\n",
    "for x in xs4:\n",
    "    GLOB['MIN_COVER_RHO2'] = x\n",
    "    res = one_task(GLOB)\n",
    "    res4.append(res)\n",
    "    print(f'{x}:{res}')"
   ]
  },
  {
   "cell_type": "code",
   "execution_count": null,
   "metadata": {},
   "outputs": [],
   "source": []
  }
 ],
 "metadata": {
  "kernelspec": {
   "display_name": "Python 3",
   "language": "python",
   "name": "python3"
  },
  "language_info": {
   "codemirror_mode": {
    "name": "ipython",
    "version": 3
   },
   "file_extension": ".py",
   "mimetype": "text/x-python",
   "name": "python",
   "nbconvert_exporter": "python",
   "pygments_lexer": "ipython3",
   "version": "3.6.5"
  },
  "toc": {
   "base_numbering": 1,
   "nav_menu": {},
   "number_sections": true,
   "sideBar": true,
   "skip_h1_title": false,
   "title_cell": "目录",
   "title_sidebar": "目录",
   "toc_cell": true,
   "toc_position": {
    "height": "calc(100% - 180px)",
    "left": "10px",
    "top": "150px",
    "width": "273px"
   },
   "toc_section_display": true,
   "toc_window_display": true
  }
 },
 "nbformat": 4,
 "nbformat_minor": 2
}
