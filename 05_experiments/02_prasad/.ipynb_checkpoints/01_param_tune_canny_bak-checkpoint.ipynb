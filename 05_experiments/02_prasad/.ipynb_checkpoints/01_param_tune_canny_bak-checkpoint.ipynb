{
 "cells": [
  {
   "cell_type": "markdown",
   "metadata": {
    "toc": true
   },
   "source": [
    "<h1>目录<span class=\"tocSkip\"></span></h1>\n",
    "<div class=\"toc\"><ul class=\"toc-item\"><li><span><a href=\"#加载数据和模型\" data-toc-modified-id=\"加载数据和模型-1\"><span class=\"toc-item-num\">1&nbsp;&nbsp;</span>加载数据和模型</a></span></li><li><span><a href=\"#精度，召回率，F和时间随参数的变化\" data-toc-modified-id=\"精度，召回率，F和时间随参数的变化-2\"><span class=\"toc-item-num\">2&nbsp;&nbsp;</span>精度，召回率，F和时间随参数的变化</a></span><ul class=\"toc-item\"><li><span><a href=\"#随MIN_LEN变化\" data-toc-modified-id=\"随MIN_LEN变化-2.1\"><span class=\"toc-item-num\">2.1&nbsp;&nbsp;</span>随MIN_LEN变化</a></span></li><li><span><a href=\"#随MIN_COVER_ANGLE变化\" data-toc-modified-id=\"随MIN_COVER_ANGLE变化-2.2\"><span class=\"toc-item-num\">2.2&nbsp;&nbsp;</span>随MIN_COVER_ANGLE变化</a></span></li><li><span><a href=\"#随MIN_COVER_RHO1变化\" data-toc-modified-id=\"随MIN_COVER_RHO1变化-2.3\"><span class=\"toc-item-num\">2.3&nbsp;&nbsp;</span>随MIN_COVER_RHO1变化</a></span></li><li><span><a href=\"#随MIN_COVER_RHO2变化\" data-toc-modified-id=\"随MIN_COVER_RHO2变化-2.4\"><span class=\"toc-item-num\">2.4&nbsp;&nbsp;</span>随MIN_COVER_RHO2变化</a></span></li></ul></li></ul></div>"
   ]
  },
  {
   "cell_type": "code",
   "execution_count": 2,
   "metadata": {},
   "outputs": [],
   "source": [
    "%matplotlib inline\n",
    "dataset = '02_prasad'\n",
    "raw_path = f'/home/liucc/Workspace/Ellipse/03_results/{dataset}/01_raw/'\n",
    "label_path = f'/home/liucc/Workspace/Ellipse/03_results/{dataset}/04_ellipse_label/'"
   ]
  },
  {
   "cell_type": "code",
   "execution_count": 3,
   "metadata": {},
   "outputs": [
    {
     "name": "stdout",
     "output_type": "stream",
     "text": [
      "['001', '002', '003', '004', '005', '006', '007', '008', '009', '010']\n"
     ]
    }
   ],
   "source": [
    "import os \n",
    "fnames = os.listdir(raw_path)\n",
    "fnames = [n[:-4] for n in fnames if n[-3:]=='jpg']\n",
    "fnames.sort()\n",
    "print(fnames[:10])"
   ]
  },
  {
   "cell_type": "markdown",
   "metadata": {},
   "source": [
    "# 加载数据和模型"
   ]
  },
  {
   "cell_type": "code",
   "execution_count": 4,
   "metadata": {},
   "outputs": [
    {
     "name": "stderr",
     "output_type": "stream",
     "text": [
      "/home/liucc/anaconda3/lib/python3.6/site-packages/skimage/util/dtype.py:122: UserWarning: Possible precision loss when converting from float64 to uint8\n",
      "  .format(dtypeobj_in, dtypeobj_out))\n",
      "/home/liucc/anaconda3/lib/python3.6/site-packages/PIL/TiffImagePlugin.py:756: UserWarning: Corrupt EXIF data.  Expecting to read 12 bytes but only got 6. \n",
      "  warnings.warn(str(msg))\n"
     ]
    },
    {
     "name": "stdout",
     "output_type": "stream",
     "text": [
      "198\n"
     ]
    }
   ],
   "source": [
    "import sys\n",
    "sys.path.append('/home/liucc/Workspace/Ellipse/01_data')\n",
    "from cc_process_image import *\n",
    "import imageio\n",
    "\n",
    "raws = get_all_images(f'{raw_path}',fnames,'jpg')\n",
    "\n",
    "print(len(raws))"
   ]
  },
  {
   "cell_type": "code",
   "execution_count": 5,
   "metadata": {},
   "outputs": [
    {
     "name": "stdout",
     "output_type": "stream",
     "text": [
      "198\n"
     ]
    }
   ],
   "source": [
    "gts = []\n",
    "\n",
    "for name in fnames:\n",
    "    lname = label_path+name+'.txt'\n",
    "    \n",
    "    with open(lname,'r') as f:\n",
    "        txt = f.read()\n",
    "        \n",
    "        ells_t = [[float(v) for v in l.split(' ')] for l in txt.split('\\n')]\n",
    "        \n",
    "        gts.append(ells_t)\n",
    "        \n",
    "\n",
    "print(len(gts))"
   ]
  },
  {
   "cell_type": "markdown",
   "metadata": {},
   "source": [
    "# 精度，召回率，F和时间随参数的变化"
   ]
  },
  {
   "cell_type": "code",
   "execution_count": 6,
   "metadata": {},
   "outputs": [],
   "source": [
    "import sys\n",
    "sys.path.append('/home/liucc/Workspace/Ellipse/02_algorithm/02_ellipse_detect')\n",
    "from cc_ellipse import *\n",
    "sys.path.append('../')\n",
    "from experiment import *"
   ]
  },
  {
   "cell_type": "code",
   "execution_count": 15,
   "metadata": {},
   "outputs": [],
   "source": [
    "import time\n",
    "from skimage.feature import canny\n",
    "\n",
    "\n",
    "\n",
    "def one_task(glob):\n",
    "    start = time.time()\n",
    "\n",
    "    prs = []\n",
    "    \n",
    "    for im in raws:\n",
    "        im = preprocess_image(im)\n",
    "        imo = canny(im, sigma=1.5)\n",
    "        ells = detect_ellipses_im(imo,glob)\n",
    "        \n",
    "        prs.append(ells)\n",
    "\n",
    "    end = time.time()\n",
    "    \n",
    "    costT = (end-start)/len(raws)\n",
    "    \n",
    "    precision,recall,F1,_,_ = cal_metrics(prs,gts,threshold=0.8)\n",
    "    \n",
    "    \n",
    "    return [precision,recall,F1,costT]"
   ]
  },
  {
   "cell_type": "code",
   "execution_count": 20,
   "metadata": {},
   "outputs": [],
   "source": [
    "#全局参数\n",
    "GLOB = {\n",
    "    'MIN_LEN' : 80,\n",
    "    'MIN_COVER_ANGLE' : 100,\n",
    "    'MIN_COVER_RHO1' : 0.4,\n",
    "    'MIN_COVER_RHO2' : 0.2,\n",
    "}\n",
    "precision,recall,F1,costT = one_task(GLOB)"
   ]
  },
  {
   "cell_type": "code",
   "execution_count": 21,
   "metadata": {},
   "outputs": [
    {
     "name": "stdout",
     "output_type": "stream",
     "text": [
      "Precision:0.6767\n",
      "Recall:   0.3077\n",
      "F1 Score: 0.4230\n",
      "Avg Time: 129\n"
     ]
    }
   ],
   "source": [
    "print('Precision:%.4f' % precision)\n",
    "print('Recall:   %.4f' % recall)\n",
    "print('F1 Score: %.4f' % F1)\n",
    "print('Avg Time: %.0f' % (costT*1000))"
   ]
  },
  {
   "cell_type": "markdown",
   "metadata": {},
   "source": [
    "## 随MIN_LEN变化"
   ]
  },
  {
   "cell_type": "code",
   "execution_count": 23,
   "metadata": {},
   "outputs": [
    {
     "name": "stderr",
     "output_type": "stream",
     "text": [
      "/home/liucc/Workspace/Ellipse/02_algorithm/02_ellipse_detect/cc_ellipse.py:515: RuntimeWarning: invalid value encountered in sqrt\n",
      "  MA = np.sqrt(FA1/(A+C+FA2)) #长轴\n"
     ]
    },
    {
     "name": "stdout",
     "output_type": "stream",
     "text": [
      "50:[0.24121146565711196, 0.3811965811965812, 0.2954620735342829, 0.16528422302669948]\n",
      "60:[0.282437745740498, 0.3683760683760684, 0.3197329376854599, 0.15273503944127245]\n",
      "70:[0.33068992862807295, 0.3564102564102564, 0.3430686960098725, 0.14614953416766543]\n",
      "80:[0.3699421965317919, 0.3282051282051282, 0.34782608695652173, 0.13312849372324317]\n",
      "90:[0.3986095017381228, 0.294017094017094, 0.33841613379242497, 0.13612307081318864]\n"
     ]
    }
   ],
   "source": [
    "from matplotlib.font_manager import FontProperties\n",
    "fp1 = FontProperties(family=\"DejaVu Sans\",size=20)\n",
    "fp2 = FontProperties(family=\"DejaVu Sans\",size=18)\n",
    "\n",
    "GLOB = {\n",
    "    'MIN_LEN' : 0,\n",
    "    'MIN_COVER_ANGLE' : 0,\n",
    "    'MIN_COVER_RHO1' : 0,\n",
    "    'MIN_COVER_RHO2' : 0,\n",
    "}\n",
    "\n",
    "res1 = []\n",
    "xs1 = list(range(50,100,10))\n",
    "for x in xs1:\n",
    "    GLOB['MIN_LEN'] = x\n",
    "    res = one_task(GLOB)\n",
    "    res1.append(res)\n",
    "    print(f'{x}:{res}')"
   ]
  },
  {
   "cell_type": "markdown",
   "metadata": {},
   "source": [
    "## 随MIN_COVER_ANGLE变化"
   ]
  },
  {
   "cell_type": "code",
   "execution_count": 17,
   "metadata": {},
   "outputs": [
    {
     "name": "stdout",
     "output_type": "stream",
     "text": [
      "90:[0.41881298992161253, 0.31965811965811963, 0.36257876878332523, 0.1270626157221168]\n",
      "100:[0.4372801875732708, 0.3188034188034188, 0.36875926841324763, 0.12799056491466484]\n",
      "110:[0.4475955610357583, 0.31025641025641026, 0.3664815749621404, 0.13311345649488043]\n",
      "120:[0.4601542416452442, 0.305982905982906, 0.3675564681724846, 0.1289562950230608]\n",
      "130:[0.4791386271870794, 0.30427350427350425, 0.3721902770517511, 0.13015471323572023]\n"
     ]
    }
   ],
   "source": [
    "GLOB = {\n",
    "    'MIN_LEN' : 80,\n",
    "    'MIN_COVER_ANGLE' : 0,\n",
    "    'MIN_COVER_RHO1' : 0,\n",
    "    'MIN_COVER_RHO2' : 0,\n",
    "}\n",
    "\n",
    "res2 = []\n",
    "xs2 = np.arange(90,140,10)\n",
    "for x in xs2:\n",
    "    GLOB['MIN_COVER_ANGLE'] = x\n",
    "    res = one_task(GLOB)\n",
    "    res2.append(res)\n",
    "    print(f'{x}:{res}')"
   ]
  },
  {
   "cell_type": "markdown",
   "metadata": {},
   "source": [
    "## 随MIN_COVER_RHO1变化"
   ]
  },
  {
   "cell_type": "code",
   "execution_count": 18,
   "metadata": {},
   "outputs": [
    {
     "name": "stdout",
     "output_type": "stream",
     "text": [
      "0.2:[0.5344827586206896, 0.31794871794871793, 0.39871382636655944, 0.12936915773333926]\n",
      "0.30000000000000004:[0.5885167464114832, 0.3153846153846154, 0.41068447412353926, 0.129606215640752]\n",
      "0.4000000000000001:[0.6460176991150443, 0.31196581196581197, 0.4207492795389049, 0.1315648363094137]\n",
      "0.5000000000000001:[0.6794625719769674, 0.30256410256410254, 0.41868716735659367, 0.12892276349693838]\n",
      "0.6000000000000001:[0.7134020618556701, 0.29572649572649573, 0.4181268882175227, 0.18711909501239507]\n"
     ]
    }
   ],
   "source": [
    "GLOB = {\n",
    "    'MIN_LEN' : 80,\n",
    "    'MIN_COVER_ANGLE' : 100,\n",
    "    'MIN_COVER_RHO1' : 0.0,\n",
    "    'MIN_COVER_RHO2' : 0.0,\n",
    "}\n",
    "\n",
    "res3 = []\n",
    "xs3 = np.arange(0.2,0.7,0.1)\n",
    "for x in xs3:\n",
    "    GLOB['MIN_COVER_RHO1'] = x\n",
    "    res = one_task(GLOB)\n",
    "    res3.append(res)\n",
    "    print(f'{x}:{res}')"
   ]
  },
  {
   "cell_type": "markdown",
   "metadata": {},
   "source": [
    "## 随MIN_COVER_RHO2变化"
   ]
  },
  {
   "cell_type": "code",
   "execution_count": 19,
   "metadata": {},
   "outputs": [
    {
     "name": "stdout",
     "output_type": "stream",
     "text": [
      "0.0:[0.6460176991150443, 0.31196581196581197, 0.4207492795389049, 0.21689000274195816]\n",
      "0.1:[0.6460176991150443, 0.31196581196581197, 0.4207492795389049, 0.1638105565851385]\n",
      "0.2:[0.6766917293233082, 0.3076923076923077, 0.42303172737955347, 0.12973227284171365]\n",
      "0.30000000000000004:[0.7315010570824524, 0.29572649572649573, 0.4211807668898357, 0.21653174751936788]\n",
      "0.4:[0.821522309711286, 0.2675213675213675, 0.4036105738233398, 0.22014996138485995]\n",
      "0.5:[0.8677966101694915, 0.2188034188034188, 0.34948805460750854, 0.21678870494919594]\n"
     ]
    }
   ],
   "source": [
    "GLOB = {\n",
    "    'MIN_LEN' : 80,\n",
    "    'MIN_COVER_ANGLE' : 100,\n",
    "    'MIN_COVER_RHO1' : 0.4,\n",
    "    'MIN_COVER_RHO2' : 0.0,\n",
    "}\n",
    "\n",
    "res4 = []\n",
    "xs4 = np.arange(0,0.6,0.1)\n",
    "for x in xs4:\n",
    "    GLOB['MIN_COVER_RHO2'] = x\n",
    "    res = one_task(GLOB)\n",
    "    res4.append(res)\n",
    "    print(f'{x}:{res}')"
   ]
  },
  {
   "cell_type": "code",
   "execution_count": null,
   "metadata": {},
   "outputs": [],
   "source": []
  }
 ],
 "metadata": {
  "kernelspec": {
   "display_name": "Python 3",
   "language": "python",
   "name": "python3"
  },
  "language_info": {
   "codemirror_mode": {
    "name": "ipython",
    "version": 3
   },
   "file_extension": ".py",
   "mimetype": "text/x-python",
   "name": "python",
   "nbconvert_exporter": "python",
   "pygments_lexer": "ipython3",
   "version": "3.6.5"
  },
  "toc": {
   "base_numbering": 1,
   "nav_menu": {},
   "number_sections": true,
   "sideBar": true,
   "skip_h1_title": false,
   "title_cell": "目录",
   "title_sidebar": "目录",
   "toc_cell": true,
   "toc_position": {
    "height": "calc(100% - 180px)",
    "left": "10px",
    "top": "150px",
    "width": "273px"
   },
   "toc_section_display": true,
   "toc_window_display": true
  }
 },
 "nbformat": 4,
 "nbformat_minor": 2
}
