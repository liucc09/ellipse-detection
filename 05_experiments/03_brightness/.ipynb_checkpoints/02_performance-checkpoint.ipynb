{
 "cells": [
  {
   "cell_type": "markdown",
   "metadata": {
    "toc": true
   },
   "source": [
    "<h1>目录<span class=\"tocSkip\"></span></h1>\n",
    "<div class=\"toc\"><ul class=\"toc-item\"><li><span><a href=\"#加载数据和模型\" data-toc-modified-id=\"加载数据和模型-1\"><span class=\"toc-item-num\">1&nbsp;&nbsp;</span>加载数据和模型</a></span></li><li><span><a href=\"#精度，召回率，F和时间随参数的变化\" data-toc-modified-id=\"精度，召回率，F和时间随参数的变化-2\"><span class=\"toc-item-num\">2&nbsp;&nbsp;</span>精度，召回率，F和时间随参数的变化</a></span></li></ul></div>"
   ]
  },
  {
   "cell_type": "code",
   "execution_count": 1,
   "metadata": {},
   "outputs": [],
   "source": [
    "%matplotlib inline\n",
    "dataset = '03_brightness'\n",
    "raw_path = f'/home/liucc/Workspace/02_Ellipse/03_results/{dataset}/01_raw/'\n",
    "result_path = f'/home/liucc/Workspace/02_Ellipse/03_results/{dataset}/05_ellipse_result/proposed/'"
   ]
  },
  {
   "cell_type": "code",
   "execution_count": 2,
   "metadata": {},
   "outputs": [
    {
     "name": "stdout",
     "output_type": "stream",
     "text": [
      "['001', '002', '003', '004', '005', '006', '007', '008', '009', '010', '011', '012', '013', '014', '015', '016', '017', '018', '019', '020', '021', '022', '023', '024', '025', '026', '027', '028', '029', '030', '031', '032', '033', '034', '035', '036', '037', '038', '039', '040']\n"
     ]
    }
   ],
   "source": [
    "import os \n",
    "fnames = os.listdir(raw_path)\n",
    "fnames = [n[:-4] for n in fnames if n[-3:]=='png']\n",
    "fnames.sort()\n",
    "print(fnames)"
   ]
  },
  {
   "cell_type": "markdown",
   "metadata": {},
   "source": [
    "# 加载数据和模型"
   ]
  },
  {
   "cell_type": "code",
   "execution_count": 3,
   "metadata": {},
   "outputs": [
    {
     "name": "stdout",
     "output_type": "stream",
     "text": [
      "40\n"
     ]
    }
   ],
   "source": [
    "import sys\n",
    "sys.path.append('/home/liucc/Workspace/02_Ellipse/01_data')\n",
    "from cc_process_image import *\n",
    "import imageio\n",
    "\n",
    "raws = get_all_images(f'{raw_path}',fnames,'png')\n",
    "\n",
    "print(len(raws))"
   ]
  },
  {
   "cell_type": "code",
   "execution_count": 4,
   "metadata": {},
   "outputs": [],
   "source": [
    "sys.path.append('/home/liucc/Workspace/02_Ellipse/02_algorithm/01_cnn')\n",
    "from cnn_model import *\n",
    "\n",
    "model_path = r'/home/liucc/Workspace/02_Ellipse/06_model/'\n",
    "model_name = r'ellipse_brightness'\n",
    "\n",
    "device = torch.device('cuda:0' if torch.cuda.is_available() else 'cpu')\n",
    "#device = torch.device('cpu')\n",
    "model = RestoreNet().to(device)\n",
    "\n",
    "model.load_state_dict(torch.load(f'{model_path}{model_name}.mdl')['state_dict'])"
   ]
  },
  {
   "cell_type": "markdown",
   "metadata": {},
   "source": [
    "# 精度，召回率，F和时间随参数的变化"
   ]
  },
  {
   "cell_type": "code",
   "execution_count": 5,
   "metadata": {},
   "outputs": [],
   "source": [
    "import sys\n",
    "sys.path.append('/home/liucc/Workspace/02_Ellipse/02_algorithm/02_ellipse_detect')\n",
    "from cc_ellipse import *\n",
    "sys.path.append('../')\n",
    "from experiment import *"
   ]
  },
  {
   "cell_type": "code",
   "execution_count": 6,
   "metadata": {},
   "outputs": [],
   "source": [
    "import time\n",
    "from skimage.feature import canny\n",
    "#全局参数\n",
    "GLOB = {\n",
    "    'MIN_LEN' : 60,\n",
    "    'MIN_COVER_ANGLE' : 80,\n",
    "    'MIN_COVER_RHO1' : 0.5,\n",
    "    'MIN_COVER_RHO2' : 0.2,\n",
    "}\n",
    "\n",
    "def one_task(glob):\n",
    "    start = time.time()\n",
    "\n",
    "    prs = []\n",
    "    \n",
    "    pre_time = 0\n",
    "    detect_time = 0\n",
    "    \n",
    "    for name,im in zip(fnames,raws):\n",
    "        oname = result_path+name+'.txt'\n",
    "        \n",
    "        start = time.time()\n",
    "        im = preprocess_image(im,scale=True)\n",
    "        imo = predict(model,im, device)\n",
    "        end = time.time()\n",
    "        \n",
    "        pre_time+= end-start\n",
    "        \n",
    "        start = time.time()\n",
    "        imo = postprocess_image(imo,0.3)\n",
    "        ells = detect_ellipses_im(imo,glob)\n",
    "        end = time.time()\n",
    "        \n",
    "        detect_time+= end-start\n",
    "        \n",
    "        prs.append(ells)\n",
    "        \n",
    "        with open(oname,'w') as f:\n",
    "            estr = '\\n'.join([' '.join(['%.4f'%v for v in l]) for l in ells])\n",
    "            f.write(estr)\n",
    "    \n",
    "    \n",
    "    pre_time = pre_time/len(raws)\n",
    "    detect_time = detect_time/len(raws)\n",
    "    totat_time = pre_time+detect_time\n",
    "    \n",
    "    return [pre_time,detect_time,totat_time]"
   ]
  },
  {
   "cell_type": "code",
   "execution_count": 7,
   "metadata": {},
   "outputs": [
    {
     "name": "stdout",
     "output_type": "stream",
     "text": [
      "Process Time: 46\n",
      "Detect Time: 104\n",
      "Total Time: 150\n"
     ]
    }
   ],
   "source": [
    "pre_time,detect_time,totat_time = one_task(GLOB)\n",
    "print('Process Time: %.0f' % (pre_time*1000))\n",
    "print('Detect Time: %.0f' % (detect_time*1000))\n",
    "print('Total Time: %.0f' % (totat_time*1000))"
   ]
  },
  {
   "cell_type": "code",
   "execution_count": null,
   "metadata": {},
   "outputs": [],
   "source": []
  }
 ],
 "metadata": {
  "kernelspec": {
   "display_name": "Python 3",
   "language": "python",
   "name": "python3"
  },
  "language_info": {
   "codemirror_mode": {
    "name": "ipython",
    "version": 3
   },
   "file_extension": ".py",
   "mimetype": "text/x-python",
   "name": "python",
   "nbconvert_exporter": "python",
   "pygments_lexer": "ipython3",
   "version": "3.6.5"
  },
  "toc": {
   "base_numbering": 1,
   "nav_menu": {},
   "number_sections": true,
   "sideBar": true,
   "skip_h1_title": false,
   "title_cell": "目录",
   "title_sidebar": "目录",
   "toc_cell": true,
   "toc_position": {
    "height": "calc(100% - 180px)",
    "left": "10px",
    "top": "150px",
    "width": "273px"
   },
   "toc_section_display": true,
   "toc_window_display": true
  }
 },
 "nbformat": 4,
 "nbformat_minor": 2
}
