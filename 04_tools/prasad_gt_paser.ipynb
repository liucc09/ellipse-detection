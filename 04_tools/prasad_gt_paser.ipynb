{
 "cells": [
  {
   "cell_type": "markdown",
   "metadata": {
    "toc": true
   },
   "source": [
    "<h1>目录<span class=\"tocSkip\"></span></h1>\n",
    "<div class=\"toc\"><ul class=\"toc-item\"></ul></div>"
   ]
  },
  {
   "cell_type": "code",
   "execution_count": 2,
   "metadata": {},
   "outputs": [],
   "source": [
    "raw_path = r'/home/liucc/Workspace/Ellipse/03_results/02_prasad/04_ellipse_label_temp'\n",
    "out_path = r'/home/liucc/Workspace/Ellipse/03_results/02_prasad/04_ellipse_label'"
   ]
  },
  {
   "cell_type": "code",
   "execution_count": 3,
   "metadata": {},
   "outputs": [
    {
     "name": "stdout",
     "output_type": "stream",
     "text": [
      "['001', '002', '003', '004', '005', '006', '007', '008', '009', '010']\n"
     ]
    }
   ],
   "source": [
    "import os \n",
    "fnames = os.listdir(raw_path)\n",
    "fnames = [n[:-4] for n in fnames if n[-3:]=='txt']\n",
    "fnames.sort()\n",
    "print(fnames[:10])"
   ]
  },
  {
   "cell_type": "code",
   "execution_count": 6,
   "metadata": {},
   "outputs": [],
   "source": [
    "import numpy as np\n",
    "for name in fnames:\n",
    "    full_in = raw_path+'/'+name+'.txt'\n",
    "    full_out = out_path+'/'+name+'.txt'\n",
    "    with open(full_in,'r') as f:\n",
    "        content = f.read()\n",
    "        lines = content.split('\\n')\n",
    "        params = [[float(v) for v in l.split('\\t')] for l in lines if len(l.split('\\t'))==5]\n",
    "        params = np.array(params)\n",
    "        params[:,-1] = params[:,-1]*180/np.pi\n",
    "        \n",
    "    with open(full_out,'w') as f:\n",
    "        estr = '\\n'.join([' '.join(['%.4f'%v for v in l]) for l in params])\n",
    "        f.write(estr)\n",
    "        "
   ]
  },
  {
   "cell_type": "code",
   "execution_count": null,
   "metadata": {},
   "outputs": [],
   "source": []
  }
 ],
 "metadata": {
  "kernelspec": {
   "display_name": "Python 3",
   "language": "python",
   "name": "python3"
  },
  "language_info": {
   "codemirror_mode": {
    "name": "ipython",
    "version": 3
   },
   "file_extension": ".py",
   "mimetype": "text/x-python",
   "name": "python",
   "nbconvert_exporter": "python",
   "pygments_lexer": "ipython3",
   "version": "3.6.5"
  },
  "toc": {
   "base_numbering": 1,
   "nav_menu": {},
   "number_sections": true,
   "sideBar": true,
   "skip_h1_title": false,
   "title_cell": "目录",
   "title_sidebar": "目录",
   "toc_cell": true,
   "toc_position": {},
   "toc_section_display": true,
   "toc_window_display": true
  }
 },
 "nbformat": 4,
 "nbformat_minor": 2
}
